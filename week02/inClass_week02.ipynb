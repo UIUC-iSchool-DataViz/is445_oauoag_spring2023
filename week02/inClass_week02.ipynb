{
 "cells": [
  {
   "cell_type": "markdown",
   "id": "respective-store",
   "metadata": {},
   "source": [
    "# In Class Notebook, Week 02"
   ]
  },
  {
   "cell_type": "markdown",
   "id": "patent-merit",
   "metadata": {},
   "source": [
    "To access this in near-real time try: https://github.com/UIUC-iSchool-DataViz/is445_oauoag_spring2023/blob/master/week02/inClass_week02.ipynb\n",
    "\n",
    "Or paste this URL into the nbviewer interface for a plain-text rendering:\n",
    "\n",
    "https://kokes.github.io/nbviewer.js/viewer.html"
   ]
  },
  {
   "cell_type": "markdown",
   "id": "7a9a06ac",
   "metadata": {},
   "source": [
    "I am writing something here."
   ]
  },
  {
   "cell_type": "code",
   "execution_count": 3,
   "id": "0e2bb675",
   "metadata": {},
   "outputs": [],
   "source": [
    "import matplotlib\n",
    "import matplotlib.pyplot as plt\n",
    "import numpy as np\n",
    "# can run with the RUN button OR SHIFT+RETURN"
   ]
  },
  {
   "cell_type": "markdown",
   "id": "e21af3e3",
   "metadata": {},
   "source": [
    "I am leaving myself notes.\n",
    "\n",
    "# This is a big header\n",
    "## This is a smaller header\n",
    "### Medium header\n",
    "#### Tiny header\n",
    "\n",
    "I can make bulleted lists:\n",
    "* thing 1\n",
    "* thing 2\n",
    "* thing 3\n",
    "\n",
    "I can also make ordered lists:\n",
    "1. first thing\n",
    "1. second thing\n",
    "1. third thing\n",
    "\n",
    "I can **bold** things.\n",
    "\n",
    "I can *italicize* things as well.\n",
    "\n",
    "$\\frac{x}{y} = 2$"
   ]
  },
  {
   "cell_type": "code",
   "execution_count": 4,
   "id": "11e7dfc0",
   "metadata": {},
   "outputs": [],
   "source": [
    "import PIL.Image as Image"
   ]
  },
  {
   "cell_type": "code",
   "execution_count": null,
   "id": "4328a7ce",
   "metadata": {},
   "outputs": [],
   "source": []
  }
 ],
 "metadata": {
  "kernelspec": {
   "display_name": "Python 3 (ipykernel)",
   "language": "python",
   "name": "python3"
  },
  "language_info": {
   "codemirror_mode": {
    "name": "ipython",
    "version": 3
   },
   "file_extension": ".py",
   "mimetype": "text/x-python",
   "name": "python",
   "nbconvert_exporter": "python",
   "pygments_lexer": "ipython3",
   "version": "3.7.12"
  }
 },
 "nbformat": 4,
 "nbformat_minor": 5
}
