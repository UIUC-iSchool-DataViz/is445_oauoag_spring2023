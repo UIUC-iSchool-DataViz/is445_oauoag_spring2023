{
 "cells": [
  {
   "cell_type": "markdown",
   "id": "respective-store",
   "metadata": {},
   "source": [
    "# In Class Notebook, Week 02"
   ]
  },
  {
   "cell_type": "markdown",
   "id": "patent-merit",
   "metadata": {},
   "source": [
    "To access this in near-real time try: https://github.com/UIUC-iSchool-DataViz/is445_oauoag_spring2023/blob/master/week02/inClass_week02.ipynb\n",
    "\n",
    "Or paste this URL into the nbviewer interface for a plain-text rendering:\n",
    "\n",
    "https://kokes.github.io/nbviewer.js/viewer.html"
   ]
  },
  {
   "cell_type": "markdown",
   "id": "98cbcddd",
   "metadata": {},
   "source": [
    "I am writing something here."
   ]
  },
  {
   "cell_type": "code",
   "execution_count": 3,
   "id": "d4e3c069",
   "metadata": {},
   "outputs": [],
   "source": [
    "import matplotlib\n",
    "import matplotlib.pyplot as plt\n",
    "import numpy as np\n",
    "# can run with the RUN button OR SHIFT+RETURN"
   ]
  },
  {
   "cell_type": "markdown",
   "id": "eb4d1a0a",
   "metadata": {},
   "source": [
    "I am leaving myself notes.\n",
    "\n",
    "# This is a big header\n",
    "## This is a smaller header\n",
    "### Medium header\n",
    "#### Tiny header\n",
    "\n",
    "I can make bulleted lists:\n",
    "* thing 1\n",
    "* thing 2\n",
    "* thing 3\n",
    "\n",
    "I can "
   ]
  },
  {
   "cell_type": "code",
   "execution_count": null,
   "id": "c82e046c",
   "metadata": {},
   "outputs": [],
   "source": []
  }
 ],
 "metadata": {
  "kernelspec": {
   "display_name": "Python 3 (ipykernel)",
   "language": "python",
   "name": "python3"
  },
  "language_info": {
   "codemirror_mode": {
    "name": "ipython",
    "version": 3
   },
   "file_extension": ".py",
   "mimetype": "text/x-python",
   "name": "python",
   "nbconvert_exporter": "python",
   "pygments_lexer": "ipython3",
   "version": "3.7.12"
  }
 },
 "nbformat": 4,
 "nbformat_minor": 5
}
