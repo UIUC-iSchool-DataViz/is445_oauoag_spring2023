{
 "cells": [
  {
   "cell_type": "markdown",
   "id": "respective-store",
   "metadata": {},
   "source": [
    "# In Class Notebook, Week 04"
   ]
  },
  {
   "cell_type": "markdown",
   "id": "2a597611",
   "metadata": {},
   "source": [
    "You can click on the GitHub URL of this notebook to access the file in near-real time: https://github.com/UIUC-iSchool-DataViz/is445_oauoag_spring2023/blob/master/week04/inClass_week04.ipynb \n",
    "\n",
    "Or you can copy-paste into the nbviewer interface for a plain-text rendering:\n",
    "\n",
    "https://kokes.github.io/nbviewer.js/viewer.html"
   ]
  },
  {
   "cell_type": "code",
   "execution_count": 1,
   "id": "04a3b4f2",
   "metadata": {},
   "outputs": [],
   "source": [
    "import matplotlib.pyplot as plt\n",
    "import numpy as np\n",
    "import pandas as pd"
   ]
  },
  {
   "cell_type": "code",
   "execution_count": 2,
   "id": "a0254817",
   "metadata": {},
   "outputs": [],
   "source": [
    "import ipywidgets"
   ]
  },
  {
   "cell_type": "code",
   "execution_count": 3,
   "id": "5540868b",
   "metadata": {},
   "outputs": [],
   "source": [
    "michigan_file = '/Users/jnaiman/Downloads/michigan_lld.flt'"
   ]
  },
  {
   "cell_type": "code",
   "execution_count": 4,
   "id": "3ddb6629",
   "metadata": {},
   "outputs": [],
   "source": [
    "michigan = np.fromfile(michigan_file, dtype='f4').reshape((5365,4201))"
   ]
  },
  {
   "cell_type": "code",
   "execution_count": 5,
   "id": "6927d2a5",
   "metadata": {},
   "outputs": [
    {
     "data": {
      "text/plain": [
       "(array([  285668.,        0.,        0.,        0.,        0.,        0.,\n",
       "               0.,        0.,        0., 22252697.]),\n",
       " array([-9999.     , -8963.905  , -7928.8115 , -6893.717  , -5858.6226 ,\n",
       "        -4823.5283 , -3788.4338 , -2753.3396 , -1718.2452 ,  -683.1509 ,\n",
       "          351.94348], dtype=float32),\n",
       " <a list of 10 Patch objects>)"
      ]
     },
     "execution_count": 5,
     "metadata": {},
     "output_type": "execute_result"
    },
    {
     "data": {
      "image/png": "[encoded data removed]",
      "text/plain": [
       "<Figure size 640x480 with 1 Axes>"
      ]
     },
     "metadata": {},
     "output_type": "display_data"
    }
   ],
   "source": [
    "plt.hist(michigan.flatten())"
   ]
  },
  {
   "cell_type": "code",
   "execution_count": null,
   "id": "d4b64421",
   "metadata": {},
   "outputs": [],
   "source": []
  }
 ],
 "metadata": {
  "kernelspec": {
   "display_name": "Python 3 (ipykernel)",
   "language": "python",
   "name": "python3"
  },
  "language_info": {
   "codemirror_mode": {
    "name": "ipython",
    "version": 3
   },
   "file_extension": ".py",
   "mimetype": "text/x-python",
   "name": "python",
   "nbconvert_exporter": "python",
   "pygments_lexer": "ipython3",
   "version": "3.7.12"
  }
 },
 "nbformat": 4,
 "nbformat_minor": 5
}
