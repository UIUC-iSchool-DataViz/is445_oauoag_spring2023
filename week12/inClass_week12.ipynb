{
 "cells": [
  {
   "cell_type": "markdown",
   "id": "respective-store",
   "metadata": {},
   "source": [
    "# In Class Notebook, Week 12"
   ]
  },
  {
   "cell_type": "markdown",
   "id": "2a597611",
   "metadata": {},
   "source": [
    "You can always access the URL of this notebook: https://github.com/UIUC-iSchool-DataViz/is445_oauoag_spring2023/blob/master/week12/inClass_week12.ipynb \n",
    "\n",
    "Or post the URL into the nbviewer interface for a plain-text rendering:\n",
    "\n",
    "https://kokes.github.io/nbviewer.js/viewer.html"
   ]
  },
  {
   "cell_type": "code",
   "execution_count": 1,
   "id": "b6e9e349",
   "metadata": {},
   "outputs": [],
   "source": [
    "import altair as alt"
   ]
  },
  {
   "cell_type": "markdown",
   "id": "a5eb5d50",
   "metadata": {},
   "source": [
    "```javascript\n",
    "var myHist1Spec = {\n",
    "  \"data\":{\"url\":\"https://raw.githubusercontent.com/UIUC-iSchool-DataViz/is445_data/main/mobility.csv\"},\n",
    "  // plot the mean Mobility score in each state\n",
    "  \"mark\":\"bar\",\n",
    "  \"encoding\":{\n",
    "    \"x\":{\"field\":\"State\", \"type\":\"nominal\"},\n",
    "    //\"y\":{\"field\":\"Mobility\", \"type\":\"quantitative\"} // this plots ALL mobility scores in a state (not the mean)\n",
    "    \"y\":{\"aggregate\":\"mean\",\"field\":\"Mobility\"}\n",
    "  }// end encoding\n",
    "};\n",
    "var v = vegaEmbed(\"#mobilityHist1\",myHist1Spec)\n",
    "```"
   ]
  },
  {
   "cell_type": "code",
   "execution_count": 3,
   "id": "d0763bfc",
   "metadata": {},
   "outputs": [
    {
     "ename": "SyntaxError",
     "evalue": "invalid syntax (593343585.py, line 3)",
     "output_type": "error",
     "traceback": [
      "\u001b[0;36m  File \u001b[0;32m\"/var/folders/t7/bwcvd_4177q4872gxghn7p9r0000gq/T/ipykernel_20182/593343585.py\"\u001b[0;36m, line \u001b[0;32m3\u001b[0m\n\u001b[0;31m    // plot the mean Mobility score in each state\u001b[0m\n\u001b[0m     ^\u001b[0m\n\u001b[0;31mSyntaxError\u001b[0m\u001b[0;31m:\u001b[0m invalid syntax\n"
     ]
    }
   ],
   "source": [
    "chart1 = alt.Chart.from_dict({\n",
    "  \"data\":{\"url\":\"https://raw.githubusercontent.com/UIUC-iSchool-DataViz/is445_data/main/mobility.csv\"},\n",
    "  # plot the mean Mobility score in each state\n",
    "  \"mark\":\"bar\",\n",
    "  \"encoding\":{\n",
    "    \"x\":{\"field\":\"State\", \"type\":\"nominal\"},\n",
    "    #\"y\":{\"field\":\"Mobility\", \"type\":\"quantitative\"}  this plots ALL mobility scores in a state (not the mean)\n",
    "    \"y\":{\"aggregate\":\"mean\",\"field\":\"Mobility\"}\n",
    "  }// end encoding\n",
    "})"
   ]
  },
  {
   "cell_type": "code",
   "execution_count": null,
   "id": "7cf23374",
   "metadata": {},
   "outputs": [],
   "source": []
  }
 ],
 "metadata": {
  "kernelspec": {
   "display_name": "Python 3 (ipykernel)",
   "language": "python",
   "name": "python3"
  },
  "language_info": {
   "codemirror_mode": {
    "name": "ipython",
    "version": 3
   },
   "file_extension": ".py",
   "mimetype": "text/x-python",
   "name": "python",
   "nbconvert_exporter": "python",
   "pygments_lexer": "ipython3",
   "version": "3.7.12"
  }
 },
 "nbformat": 4,
 "nbformat_minor": 5
}
