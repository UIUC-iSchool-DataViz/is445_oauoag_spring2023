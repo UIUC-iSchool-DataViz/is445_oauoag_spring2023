{
 "cells": [
  {
   "cell_type": "markdown",
   "metadata": {},
   "source": [
    "# Week 05: Continuing interactivity in Python with the viz engine bqplot"
   ]
  },
  {
   "cell_type": "markdown",
   "metadata": {},
   "source": [
    "Make sure you have installed this via the install script `test_imports_week01.ipynb` in week 1.  You may have to restart your jupyter or your browswer.\n",
    "\n",
    "We'll start by using `bqplot` in a Grammar of Graphics & *Declaritive* sort of way, and then, if we have time, spend a few moments looking at its `matplotlib`-like interface as well which is an *Imperative* method."
   ]
  },
  {
   "cell_type": "code",
   "execution_count": 1,
   "metadata": {},
   "outputs": [],
   "source": [
    "import bqplot\n",
    "import numpy as np\n",
    "import ipywidgets"
   ]
  },
  {
   "cell_type": "markdown",
   "metadata": {},
   "source": [
    "Now we are going to mess around with some of the declaritive programming type options that bqplot can use.  This will rely heavily on the \"Grammar of Graphics\" constructs."
   ]
  },
  {
   "cell_type": "markdown",
   "metadata": {},
   "source": [
    "## Random line plot with Pan/Zoom interaction\n",
    "\n",
    "We'll now go through the example I put up on the slides for this week. \n",
    "\n",
    "**Data:** Let's first start by creating *data* elements for our graphic just some random numbers:"
   ]
  },
  {
   "cell_type": "code",
   "execution_count": 2,
   "metadata": {},
   "outputs": [],
   "source": [
    "x = np.arange(100) # integers 0->999\n",
    "y = np.random.random(100) + 5 # random numbers with mean = 5"
   ]
  },
  {
   "cell_type": "code",
   "execution_count": 3,
   "metadata": {},
   "outputs": [
    {
     "data": {
      "text/plain": [
       "(array([ 0,  1,  2,  3,  4,  5,  6,  7,  8,  9, 10, 11, 12, 13, 14, 15, 16,\n",
       "        17, 18, 19, 20, 21, 22, 23, 24, 25, 26, 27, 28, 29, 30, 31, 32, 33,\n",
       "        34, 35, 36, 37, 38, 39, 40, 41, 42, 43, 44, 45, 46, 47, 48, 49, 50,\n",
       "        51, 52, 53, 54, 55, 56, 57, 58, 59, 60, 61, 62, 63, 64, 65, 66, 67,\n",
       "        68, 69, 70, 71, 72, 73, 74, 75, 76, 77, 78, 79, 80, 81, 82, 83, 84,\n",
       "        85, 86, 87, 88, 89, 90, 91, 92, 93, 94, 95, 96, 97, 98, 99]),\n",
       " array([5.93661483, 5.34624955, 5.73513537, 5.23408942, 5.45306324,\n",
       "        5.64365054, 5.33392401, 5.48639708, 5.91656965, 5.75897354,\n",
       "        5.05339608, 5.94327334, 5.75273631, 5.46951423, 5.39720997,\n",
       "        5.41478471, 5.46423287, 5.55338327, 5.47241503, 5.36191841,\n",
       "        5.76432492, 5.57416212, 5.54412269, 5.96641869, 5.31596885,\n",
       "        5.88124223, 5.6305342 , 5.18198671, 5.84524615, 5.09018105,\n",
       "        5.69861928, 5.77510297, 5.78567191, 5.67110384, 5.07511995,\n",
       "        5.14591443, 5.36716692, 5.3643783 , 5.13785008, 5.60991725,\n",
       "        5.32705221, 5.02978091, 5.97122312, 5.27884715, 5.39366242,\n",
       "        5.14000822, 5.32931411, 5.52185835, 5.65908984, 5.88657966,\n",
       "        5.96337401, 5.15590699, 5.49816357, 5.56308338, 5.99774977,\n",
       "        5.14598619, 5.55657238, 5.51173747, 5.26248707, 5.16321508,\n",
       "        5.24050621, 5.37821729, 5.99109834, 5.97263882, 5.46842575,\n",
       "        5.2588034 , 5.0078336 , 5.97242549, 5.93731004, 5.91932612,\n",
       "        5.11242133, 5.46438761, 5.31853728, 5.08416761, 5.71639264,\n",
       "        5.15466596, 5.53283464, 5.11958627, 5.04112224, 5.70687806,\n",
       "        5.66433708, 5.82145102, 5.05102315, 5.68178552, 5.66627342,\n",
       "        5.28777571, 5.09018723, 5.49254921, 5.42000966, 5.10778962,\n",
       "        5.22595051, 5.21816827, 5.68676002, 5.55529472, 5.22465953,\n",
       "        5.05856372, 5.28860005, 5.94322729, 5.85992449, 5.85511508]))"
      ]
     },
     "execution_count": 3,
     "metadata": {},
     "output_type": "execute_result"
    }
   ],
   "source": [
    "x, y"
   ]
  },
  {
   "cell_type": "markdown",
   "metadata": {},
   "source": [
    "**Scales:** Now we'll define some scale objects which will determine how lines will be drawn on our canvas:"
   ]
  },
  {
   "cell_type": "code",
   "execution_count": 4,
   "metadata": {},
   "outputs": [],
   "source": [
    "bqplot.LinearScale?"
   ]
  },
  {
   "cell_type": "code",
   "execution_count": 5,
   "metadata": {},
   "outputs": [],
   "source": [
    "x_sc = bqplot.LinearScale()\n",
    "y_sc = bqplot.LinearScale()"
   ]
  },
  {
   "cell_type": "markdown",
   "metadata": {},
   "source": [
    "**Marks:** Now we are going to use GoG type calls to define what lines to actually draw combining information about our data and our scales:"
   ]
  },
  {
   "cell_type": "code",
   "execution_count": 6,
   "metadata": {},
   "outputs": [],
   "source": [
    "bqplot.Lines?"
   ]
  },
  {
   "cell_type": "code",
   "execution_count": 7,
   "metadata": {},
   "outputs": [],
   "source": [
    "lines = bqplot.Lines(x = x, y = y, scales = {'x': x_sc, 'y': y_sc})"
   ]
  },
  {
   "cell_type": "markdown",
   "metadata": {},
   "source": [
    "**Axis:** Now, we are going to define what axis we want placed around the lines that we draw we'll draw both x & y axis."
   ]
  },
  {
   "cell_type": "code",
   "execution_count": 8,
   "metadata": {},
   "outputs": [],
   "source": [
    "bqplot.Axis?"
   ]
  },
  {
   "cell_type": "code",
   "execution_count": 9,
   "metadata": {},
   "outputs": [],
   "source": [
    "ax_x = bqplot.Axis(scale = x_sc, label = 'X Value')\n",
    "ax_y = bqplot.Axis(scale = y_sc, label = 'Y Value', orientation = 'vertical')"
   ]
  },
  {
   "cell_type": "markdown",
   "metadata": {},
   "source": [
    "**Figure:** Finally, we combine all these things together into a bonified figure:"
   ]
  },
  {
   "cell_type": "code",
   "execution_count": 10,
   "metadata": {},
   "outputs": [],
   "source": [
    "bqplot.Figure?"
   ]
  },
  {
   "cell_type": "code",
   "execution_count": 11,
   "metadata": {},
   "outputs": [
    {
     "data": {
      "application/vnd.jupyter.widget-view+json": {
       "model_id": "4e05a40d25634a59b7019b18dfe518b6",
       "version_major": 2,
       "version_minor": 0
      },
      "text/plain": [
       "Figure(axes=[Axis(label='X Value', scale=LinearScale(), side='bottom'), Axis(label='Y Value', orientation='ver…"
      ]
     },
     "metadata": {},
     "output_type": "display_data"
    }
   ],
   "source": [
    "fig = bqplot.Figure(marks = [lines], axes = [ax_x, ax_y])\n",
    "#display(fig) # you might also want to try \"display\"\n",
    "# if you don't see the following fig, here is where\n",
    "#  you might have to close and reopen your notebook\n",
    "fig # note: just \"fig\" instead of \"display(fig)\" may also be an option for you"
   ]
  },
  {
   "cell_type": "markdown",
   "metadata": {},
   "source": [
    "Ok, but this isn't interactive in anyway lets make it!!  There are a few \"interactions\" supported in `bqplot` but not all of them are supported for all types of plots.  The docs can be a little nebulous about what plot can use what type of interaction, so we'll just try a few and see what happens.  Here, let's add in an ability to pan/zoom in our plot:"
   ]
  },
  {
   "cell_type": "code",
   "execution_count": 12,
   "metadata": {},
   "outputs": [],
   "source": [
    "bqplot.interacts?"
   ]
  },
  {
   "cell_type": "code",
   "execution_count": 13,
   "metadata": {},
   "outputs": [],
   "source": [
    "bqplot.interacts.PanZoom?"
   ]
  },
  {
   "cell_type": "code",
   "execution_count": 14,
   "metadata": {},
   "outputs": [],
   "source": [
    "pz = bqplot.interacts.PanZoom( scales = {'x': [x_sc], 'y': [y_sc]})"
   ]
  },
  {
   "cell_type": "code",
   "execution_count": 15,
   "metadata": {},
   "outputs": [
    {
     "data": {
      "application/vnd.jupyter.widget-view+json": {
       "model_id": "b634403efd2b44bfbe7c18a0859afd44",
       "version_major": 2,
       "version_minor": 0
      },
      "text/plain": [
       "Figure(axes=[Axis(label='X Value', scale=LinearScale(), side='bottom'), Axis(label='Y Value', orientation='ver…"
      ]
     },
     "metadata": {},
     "output_type": "display_data"
    }
   ],
   "source": [
    "fig = bqplot.Figure(marks = [lines], axes = [ax_x, ax_y], interaction = pz)\n",
    "#display(fig)\n",
    "fig"
   ]
  },
  {
   "cell_type": "markdown",
   "metadata": {},
   "source": [
    "Note that if I pan and zoom, the figure updates. Ooooo. fancy.\n",
    "\n",
    "Note also, that the above figure also reacts as well this is because we are using the same lines & ax's objects -- recall back to last week that this was a feature of using ipywidgets and traitlets as well."
   ]
  },
  {
   "cell_type": "markdown",
   "metadata": {},
   "source": [
    "### ASIDE: where things can go wrong (SKIPPING generally):"
   ]
  },
  {
   "cell_type": "code",
   "execution_count": 19,
   "metadata": {},
   "outputs": [],
   "source": [
    "# lets see an example of where this can fail\n",
    "\n",
    "# first lets make an x from 0-10 in 100 steps\n",
    "x = np.mgrid[0.0:10.0:100j]\n",
    "# and 2 y variables\n",
    "y1 = x * 2\n",
    "y2 = x**2"
   ]
  },
  {
   "cell_type": "code",
   "execution_count": 20,
   "metadata": {},
   "outputs": [],
   "source": [
    "x_sc = bqplot.LinearScale(min = 1, max = 10)\n",
    "# lets do one y-scale over linear and 1 over log\n",
    "y_sc1 = bqplot.LinearScale(min = 1, max = 20)\n",
    "y_sc2 = bqplot.LogScale(min = 1, max = 100)"
   ]
  },
  {
   "cell_type": "code",
   "execution_count": 21,
   "metadata": {},
   "outputs": [],
   "source": [
    "# lets genrate lines for each y value\n",
    "lines1 = bqplot.Lines(x = x, y = y1, scales = {'x': x_sc, 'y': y_sc1})\n",
    "lines2 = bqplot.Lines(x = x, y = y2, scales = {'x': x_sc, 'y': y_sc2})"
   ]
  },
  {
   "cell_type": "code",
   "execution_count": 22,
   "metadata": {},
   "outputs": [],
   "source": [
    "# and lets plot an x axis like before\n",
    "ax_x = bqplot.Axis(scale = x_sc, label = 'X Value')\n",
    "# and one y axis on the left\n",
    "ax_y1 = bqplot.Axis(scale = y_sc1, label = 'Y1 Value', \n",
    "                    orientation = 'vertical')\n",
    "# and one y-axis on the right\n",
    "ax_y2 = bqplot.Axis(scale = y_sc2, label = 'Y2 Value', \n",
    "                    orientation = 'vertical', side = 'right')"
   ]
  },
  {
   "cell_type": "code",
   "execution_count": 23,
   "metadata": {
    "scrolled": false
   },
   "outputs": [
    {
     "data": {
      "application/vnd.jupyter.widget-view+json": {
       "model_id": "91b43ad388224bb0bb81dc60cecb6141",
       "version_major": 2,
       "version_minor": 0
      },
      "text/plain": [
       "Figure(axes=[Axis(label='X Value', scale=LinearScale(max=10.0, min=1.0)), Axis(label='Y1 Value', orientation='…"
      ]
     },
     "metadata": {},
     "output_type": "display_data"
    }
   ],
   "source": [
    "# lets allow pan and zoom\n",
    "pz = bqplot.interacts.PanZoom(scales = {'x': [x_sc], \n",
    "                                        'y': [y_sc1, y_sc2]})\n",
    "#bqplot.interacts.PanZoom?\n",
    "fig = bqplot.Figure(marks = [lines1, lines2], \n",
    "                    axes = [ax_x, ax_y1, ax_y2], interaction=pz)\n",
    "#display(fig)\n",
    "fig\n",
    "# now we note if we zoom out too far, or pan to too negative of the x-axis\n",
    "# we lose a line\n",
    "\n",
    "# why? because the line is log-scaled, and log(numbers < 0) is undefined\n",
    "\n",
    "# this is a way in which declaritive programming can fail because there\n",
    "#  aren't obvious options to inhibit pan&zoom to a positive range"
   ]
  },
  {
   "cell_type": "markdown",
   "metadata": {},
   "source": [
    "### END ASIDE/SKIP"
   ]
  },
  {
   "cell_type": "markdown",
   "metadata": {},
   "source": [
    "FYI lots of more fun notebooks here: https://github.com/dmadeka/PyGotham-2017\n",
    "\n",
    "From video tutorial here: https://www.youtube.com/watch?v=rraXF0EjRC8"
   ]
  },
  {
   "cell_type": "markdown",
   "metadata": {},
   "source": [
    "## Random Scatter plot\n",
    "Ok, lets do another quick interactive example using a scatter plot:"
   ]
  },
  {
   "cell_type": "code",
   "execution_count": 16,
   "metadata": {},
   "outputs": [],
   "source": [
    "# 1. Data\n",
    "x = np.random.random(100) # random points betweeon 0-1\n",
    "y = np.random.random(100) # random points betweeon 0-1"
   ]
  },
  {
   "cell_type": "code",
   "execution_count": 17,
   "metadata": {},
   "outputs": [
    {
     "data": {
      "text/plain": [
       "(array([0.2190384 , 0.58506728, 0.30439843, 0.25132347, 0.11426786,\n",
       "        0.15130105, 0.73096062, 0.38683252, 0.02324344, 0.80947925,\n",
       "        0.44597839, 0.76313608, 0.87695479, 0.16619222, 0.20718514,\n",
       "        0.95454908, 0.3288032 , 0.38960987, 0.09565812, 0.51868858,\n",
       "        0.39677727, 0.4059086 , 0.63237424, 0.37689126, 0.33033985,\n",
       "        0.69237995, 0.43150615, 0.99173312, 0.22392179, 0.85227412,\n",
       "        0.23960465, 0.98803273, 0.09184942, 0.79066729, 0.78272598,\n",
       "        0.62713226, 0.58173786, 0.95777688, 0.37704654, 0.13824028,\n",
       "        0.88968559, 0.61068654, 0.09518297, 0.32021056, 0.89734683,\n",
       "        0.68771414, 0.34255269, 0.02528626, 0.23932992, 0.44647984,\n",
       "        0.80383412, 0.95389627, 0.55015698, 0.3594936 , 0.98500506,\n",
       "        0.65123569, 0.72892776, 0.04666025, 0.22309024, 0.86902048,\n",
       "        0.25695983, 0.45967047, 0.26840798, 0.54786362, 0.58462948,\n",
       "        0.80002346, 0.25971019, 0.32196763, 0.13661438, 0.04157894,\n",
       "        0.48587944, 0.12320053, 0.15157322, 0.99176564, 0.97395256,\n",
       "        0.04832991, 0.76692516, 0.81231947, 0.30648765, 0.40048879,\n",
       "        0.10046475, 0.74882831, 0.04997911, 0.1245074 , 0.44480849,\n",
       "        0.86451659, 0.56392968, 0.75530515, 0.52094043, 0.48801841,\n",
       "        0.47590036, 0.81616283, 0.35385967, 0.70983743, 0.42115933,\n",
       "        0.70112731, 0.10877301, 0.86626567, 0.10591187, 0.23429656]),\n",
       " array([0.7717381 , 0.7991999 , 0.37857516, 0.57501713, 0.14602773,\n",
       "        0.51215971, 0.11018099, 0.83683326, 0.54009068, 0.01771719,\n",
       "        0.40589869, 0.06502299, 0.64896461, 0.23131825, 0.24251089,\n",
       "        0.6721626 , 0.68912597, 0.25372492, 0.19623917, 0.39582717,\n",
       "        0.27169764, 0.88349129, 0.49635414, 0.68078193, 0.64485569,\n",
       "        0.79268027, 0.88339551, 0.54571922, 0.35261958, 0.90273954,\n",
       "        0.17380913, 0.96460319, 0.09537935, 0.31003048, 0.51971883,\n",
       "        0.895913  , 0.45203021, 0.25821404, 0.204678  , 0.1470229 ,\n",
       "        0.59590499, 0.70346903, 0.57101673, 0.30156419, 0.51988104,\n",
       "        0.51994112, 0.55316878, 0.78297221, 0.03248121, 0.00814113,\n",
       "        0.97262112, 0.09320168, 0.1106649 , 0.27056482, 0.70291147,\n",
       "        0.76680363, 0.53880795, 0.47439445, 0.43072997, 0.00770426,\n",
       "        0.65832445, 0.08830762, 0.67563405, 0.4219307 , 0.86230613,\n",
       "        0.90493674, 0.69707345, 0.79104616, 0.47878426, 0.09708861,\n",
       "        0.36874869, 0.57756749, 0.33860999, 0.17877162, 0.83100079,\n",
       "        0.52952969, 0.18549787, 0.06462957, 0.76053807, 0.9638921 ,\n",
       "        0.63019537, 0.43792671, 0.94587218, 0.2442237 , 0.45401202,\n",
       "        0.10246688, 0.16884362, 0.7143203 , 0.5207621 , 0.59272946,\n",
       "        0.94437073, 0.76860918, 0.45944557, 0.55797355, 0.55578076,\n",
       "        0.93599456, 0.21717417, 0.02170491, 0.95320508, 0.05314089]))"
      ]
     },
     "execution_count": 17,
     "metadata": {},
     "output_type": "execute_result"
    }
   ],
   "source": [
    "x, y"
   ]
  },
  {
   "cell_type": "markdown",
   "metadata": {},
   "source": [
    "Create scales and axis like we did before:"
   ]
  },
  {
   "cell_type": "code",
   "execution_count": 18,
   "metadata": {},
   "outputs": [],
   "source": [
    "# 2. scales\n",
    "x_sc = bqplot.LinearScale()\n",
    "y_sc = bqplot.LinearScale()\n",
    "\n",
    "# 3. axis\n",
    "x_ax = bqplot.Axis(scale = x_sc, label = 'X')\n",
    "y_ax = bqplot.Axis(scale = y_sc, label = 'Y', orientation = 'vertical')"
   ]
  },
  {
   "cell_type": "markdown",
   "metadata": {},
   "source": [
    "Create a scatter plot graphing object with these random x/y and scales:"
   ]
  },
  {
   "cell_type": "code",
   "execution_count": 19,
   "metadata": {},
   "outputs": [],
   "source": [
    "bqplot.Scatter?"
   ]
  },
  {
   "cell_type": "code",
   "execution_count": 20,
   "metadata": {},
   "outputs": [],
   "source": [
    "# 4. marks\n",
    "scatters = bqplot.Scatter(x = x,\n",
    "                          y = y,\n",
    "                          scales = {'x': x_sc, 'y': y_sc})"
   ]
  },
  {
   "cell_type": "markdown",
   "metadata": {},
   "source": [
    "Now, lets create a selector to select points along the x-axis.  We will use the `bqplot` interaction called `FastIntervalSelector`:"
   ]
  },
  {
   "cell_type": "code",
   "execution_count": 21,
   "metadata": {},
   "outputs": [],
   "source": [
    "bqplot.interacts.FastIntervalSelector?"
   ]
  },
  {
   "cell_type": "code",
   "execution_count": 22,
   "metadata": {},
   "outputs": [],
   "source": [
    "# 5. interactions\n",
    "selector = bqplot.interacts.FastIntervalSelector(\n",
    "            scale = x_sc, marks = [scatters]) "
   ]
  },
  {
   "cell_type": "markdown",
   "metadata": {},
   "source": [
    "Let's check out the full figure + interaction!"
   ]
  },
  {
   "cell_type": "code",
   "execution_count": 23,
   "metadata": {},
   "outputs": [
    {
     "data": {
      "application/vnd.jupyter.widget-view+json": {
       "model_id": "074f27060491427a96537d7428c02c51",
       "version_major": 2,
       "version_minor": 0
      },
      "text/plain": [
       "Figure(axes=[Axis(label='X', scale=LinearScale(), side='bottom'), Axis(label='Y', orientation='vertical', scal…"
      ]
     },
     "metadata": {},
     "output_type": "display_data"
    }
   ],
   "source": [
    "# Finally: fig\n",
    "fig = bqplot.Figure(marks = [scatters], axes = [x_ax, y_ax], interaction = selector)\n",
    "fig"
   ]
  },
  {
   "cell_type": "markdown",
   "metadata": {},
   "source": [
    "This might depend on what computer you are in, but on my mac, I click to start selecting and then double click to \"lock in\" my selected region.\n",
    "\n",
    "How do we tell what interval we have selected?"
   ]
  },
  {
   "cell_type": "code",
   "execution_count": 24,
   "metadata": {},
   "outputs": [
    {
     "data": {
      "text/plain": [
       "array([0.40826005, 0.78848057])"
      ]
     },
     "execution_count": 24,
     "metadata": {},
     "output_type": "execute_result"
    }
   ],
   "source": [
    "selector.selected"
   ]
  },
  {
   "cell_type": "markdown",
   "metadata": {},
   "source": [
    "So, its a little hard to see what points are selected.  There are some hidden tags within our scatter plot points that we can mess with to change our our plot looks.  These have CSS styling (how HTML is styled), so they'll look very un-Pythonic, because they are!  We'll get more into this sort of thing when we are doing Javascript later in the course:"
   ]
  },
  {
   "cell_type": "code",
   "execution_count": 25,
   "metadata": {},
   "outputs": [],
   "source": [
    "scatters.unselected_style={'opacity': 0.8} # when unselected, make the points a little see-through\n",
    "\n",
    "scatters.selected_style={'fill': 'red', 'stroke': 'yellow'} # fill with red, outline in yellow when selected"
   ]
  },
  {
   "cell_type": "markdown",
   "metadata": {},
   "source": [
    "Display updated figure (though, like with widgets, this change is \"backreactive\" and will show up above as well):"
   ]
  },
  {
   "cell_type": "code",
   "execution_count": 26,
   "metadata": {},
   "outputs": [
    {
     "data": {
      "application/vnd.jupyter.widget-view+json": {
       "model_id": "0b0aee8fa0b1453fb185b3e2d87c85bf",
       "version_major": 2,
       "version_minor": 0
      },
      "text/plain": [
       "Figure(axes=[Axis(label='X', scale=LinearScale(), side='bottom'), Axis(label='Y', orientation='vertical', scal…"
      ]
     },
     "metadata": {},
     "output_type": "display_data"
    }
   ],
   "source": [
    "fig = bqplot.Figure(marks = [scatters], axes = [x_ax, y_ax], interaction = selector)\n",
    "#display(fig)\n",
    "fig"
   ]
  },
  {
   "cell_type": "markdown",
   "metadata": {},
   "source": [
    "## Random Heatmap with 2D data"
   ]
  },
  {
   "cell_type": "markdown",
   "metadata": {},
   "source": [
    "Lets start thinking about heatmaps with some random data:"
   ]
  },
  {
   "cell_type": "code",
   "execution_count": 27,
   "metadata": {},
   "outputs": [
    {
     "data": {
      "text/plain": [
       "array([[0.66412624, 0.48249954, 0.43252326, 0.15264388, 0.02535291,\n",
       "        0.98208301, 0.04035573, 0.78017141, 0.11082985, 0.32040361],\n",
       "       [0.19738636, 0.14669056, 0.77724321, 0.37191287, 0.58174629,\n",
       "        0.24159133, 0.90103565, 0.0274849 , 0.04710978, 0.47610691],\n",
       "       [0.57568683, 0.84949536, 0.01637271, 0.14299782, 0.82834133,\n",
       "        0.87874142, 0.73004369, 0.57258288, 0.50419256, 0.92087566],\n",
       "       [0.9064506 , 0.84500285, 0.97617766, 0.08307754, 0.76953203,\n",
       "        0.84544717, 0.74407192, 0.68134813, 0.76955123, 0.58765208],\n",
       "       [0.62445237, 0.22417015, 0.83619272, 0.82576979, 0.9972192 ,\n",
       "        0.65307446, 0.41224198, 0.35340283, 0.87533218, 0.69826387],\n",
       "       [0.22307114, 0.51421706, 0.27493501, 0.44283929, 0.01220494,\n",
       "        0.03714786, 0.82686339, 0.98790423, 0.52693336, 0.86462489],\n",
       "       [0.55439807, 0.66383603, 0.6664908 , 0.92376166, 0.38218217,\n",
       "        0.79695795, 0.22314905, 0.11392416, 0.72467832, 0.26399282],\n",
       "       [0.70215128, 0.00919195, 0.1397894 , 0.01178185, 0.07926383,\n",
       "        0.42852246, 0.44208972, 0.21183099, 0.82765718, 0.59364423],\n",
       "       [0.03191913, 0.92980123, 0.62780597, 0.96531474, 0.26291847,\n",
       "        0.87192637, 0.08214157, 0.3619213 , 0.03582987, 0.98295811],\n",
       "       [0.88870793, 0.22604223, 0.26530748, 0.1844157 , 0.7746393 ,\n",
       "        0.20269605, 0.92812666, 0.40618382, 0.57370569, 0.38402926]])"
      ]
     },
     "execution_count": 27,
     "metadata": {},
     "output_type": "execute_result"
    }
   ],
   "source": [
    "# 1. Data\n",
    "data = np.random.random((10, 10))\n",
    "data # your's may look different!"
   ]
  },
  {
   "cell_type": "markdown",
   "metadata": {},
   "source": [
    "So we just have a 10 x 10 array here.\n",
    "\n",
    "Lets start by generating a quick heat map with `bqplot`'s `GridHeatMap` marks function. We've been making plots with linear scales before, but now for a heatmap, we will want to make a color scale as well.  Let's start with just assigning a color scale, and going from there:"
   ]
  },
  {
   "cell_type": "code",
   "execution_count": 28,
   "metadata": {},
   "outputs": [],
   "source": [
    "bqplot.ColorScale?"
   ]
  },
  {
   "cell_type": "code",
   "execution_count": 29,
   "metadata": {},
   "outputs": [
    {
     "data": {
      "application/vnd.jupyter.widget-view+json": {
       "model_id": "01e66b62f93a408cb1bf235a529d2565",
       "version_major": 2,
       "version_minor": 0
      },
      "text/plain": [
       "Figure(fig_margin={'top': 60, 'bottom': 60, 'left': 60, 'right': 60}, marks=[GridHeatMap(color=array([[0.66412…"
      ]
     },
     "metadata": {},
     "output_type": "display_data"
    }
   ],
   "source": [
    "# 2. Scales -- in this case, just a color scale\n",
    "col_sc = bqplot.ColorScale() # use bqplot to define a color scale\n",
    "\n",
    "# 3. Axis -- skipping for now\n",
    "\n",
    "# 4. Mark -- use colorscale to make make heatmap of our data:\n",
    "heat_map = bqplot.GridHeatMap(color = data, scales = {'color': col_sc})\n",
    "\n",
    "# 5. Skipping any interactions\n",
    "\n",
    "# Finally: figure\n",
    "fig = bqplot.Figure(marks = [heat_map])\n",
    "fig"
   ]
  },
  {
   "cell_type": "code",
   "execution_count": 30,
   "metadata": {},
   "outputs": [],
   "source": [
    "bqplot.GridHeatMap?"
   ]
  },
  {
   "cell_type": "markdown",
   "metadata": {},
   "source": [
    "There are some things we probably want to do here.  One of them being able to change the color scale -- we spent all this time thinking about color, let's put those thoughts to good use!"
   ]
  },
  {
   "cell_type": "code",
   "execution_count": 31,
   "metadata": {},
   "outputs": [
    {
     "data": {
      "application/vnd.jupyter.widget-view+json": {
       "model_id": "31cb82e4097a4bca83e35fff0dff0125",
       "version_major": 2,
       "version_minor": 0
      },
      "text/plain": [
       "Figure(fig_margin={'top': 60, 'bottom': 60, 'left': 60, 'right': 60}, marks=[GridHeatMap(color=array([[0.66412…"
      ]
     },
     "metadata": {},
     "output_type": "display_data"
    }
   ],
   "source": [
    "# 1. Data -- same as above\n",
    "\n",
    "# 2. Scale -- color with new color scheme\n",
    "col_sc = bqplot.ColorScale(scheme = \"Reds\") # color scheme of reds\n",
    "\n",
    "# 3. skip Axis\n",
    "\n",
    "# 4. Marks -- use colorscale to make make heatmap of our data:\n",
    "heat_map = bqplot.GridHeatMap(color = data, scales = {'color': col_sc})\n",
    "\n",
    "# Figure\n",
    "fig = bqplot.Figure(marks = [heat_map])\n",
    "fig"
   ]
  },
  {
   "cell_type": "markdown",
   "metadata": {},
   "source": [
    "Let's build upon this plot by adding some axis so that we can think about how to label our data.  Currently, we *only* have a color scale for each color in our 10x10 grid, so we will label this color axis with a colorbar:"
   ]
  },
  {
   "cell_type": "code",
   "execution_count": 32,
   "metadata": {},
   "outputs": [],
   "source": [
    "bqplot.ColorAxis?"
   ]
  },
  {
   "cell_type": "code",
   "execution_count": 33,
   "metadata": {},
   "outputs": [
    {
     "data": {
      "application/vnd.jupyter.widget-view+json": {
       "model_id": "18068f778cf84e1f89f0fe5b80fb3587",
       "version_major": 2,
       "version_minor": 0
      },
      "text/plain": [
       "Figure(axes=[ColorAxis(orientation='vertical', scale=ColorScale(scheme='Reds'), side='right')], fig_margin={'t…"
      ]
     },
     "metadata": {},
     "output_type": "display_data"
    }
   ],
   "source": [
    "# 1. Data -- same\n",
    "\n",
    "# 2. Scales -- color\n",
    "col_sc = bqplot.ColorScale(scheme = \"Reds\")\n",
    "# lets plot some axes on our plot as well, in this case\n",
    "#  our axis will be a color bar, vertically on the right\n",
    "#  of our heatmap\n",
    "\n",
    "# 3. Axis (finally) -- here a \"color axis\" is just a colorbar\n",
    "c_ax = bqplot.ColorAxis(scale = col_sc, \n",
    "                        orientation = 'vertical', \n",
    "                        side = 'right') \n",
    "\n",
    "# 4. Marks -- put it all together and lets take a look!\n",
    "heat_map = bqplot.GridHeatMap(color = data, \n",
    "                              scales = {'color': col_sc})\n",
    "\n",
    "# 5. no interactions\n",
    "\n",
    "# generate fig!\n",
    "fig = bqplot.Figure(marks = [heat_map], axes = [c_ax])\n",
    "fig"
   ]
  },
  {
   "cell_type": "markdown",
   "metadata": {},
   "source": [
    "While our x/y bins don't mean anything in particular in this case - we are dealing with just a randomly binned 10x10 dataset after all - we none-the-less probably want to put at least the bin labels on there.  So let's make some x/y scales and some x/y axis (note I'm doing Scales/Axis a bit out of order here to group by kind of axis):"
   ]
  },
  {
   "cell_type": "code",
   "execution_count": 34,
   "metadata": {},
   "outputs": [],
   "source": [
    "x_sc = bqplot.OrdinalScale()\n",
    "y_sc = bqplot.OrdinalScale()\n",
    "\n",
    "x_ax = bqplot.Axis(scale = x_sc)\n",
    "y_ax = bqplot.Axis(scale = y_sc, \n",
    "                   orientation = 'vertical')"
   ]
  },
  {
   "cell_type": "markdown",
   "metadata": {},
   "source": [
    "Why did I choose ordinal scales?  Well again - the bins, while numbered, don't actually mean anything, so in a sense they are \"categorical\" bins, and our scales should reflect that fact!"
   ]
  },
  {
   "cell_type": "markdown",
   "metadata": {},
   "source": [
    "Color scale & color axis like before:"
   ]
  },
  {
   "cell_type": "code",
   "execution_count": 35,
   "metadata": {},
   "outputs": [],
   "source": [
    "col_sc = bqplot.ColorScale(scheme = \"Reds\")\n",
    "\n",
    "c_ax = bqplot.ColorAxis(scale = col_sc, \n",
    "                        orientation = 'vertical', \n",
    "                        side = 'right')"
   ]
  },
  {
   "cell_type": "markdown",
   "metadata": {},
   "source": [
    "Combine all these scales, axis and the data into a heat map mark using `bqplot.GridHeatMap`:"
   ]
  },
  {
   "cell_type": "code",
   "execution_count": 36,
   "metadata": {},
   "outputs": [],
   "source": [
    "# Marks -- lets now re-do our heat map & add in some interactivity:\n",
    "heat_map = bqplot.GridHeatMap(color = data,\n",
    "                              scales = {'color': col_sc,\n",
    "                                        'row': y_sc,\n",
    "                                        'column': x_sc})"
   ]
  },
  {
   "cell_type": "markdown",
   "metadata": {},
   "source": [
    "... put these marks and axes on a figure canvas and plot it!"
   ]
  },
  {
   "cell_type": "code",
   "execution_count": 37,
   "metadata": {},
   "outputs": [
    {
     "data": {
      "application/vnd.jupyter.widget-view+json": {
       "model_id": "f6e8ee723e07451fa938b69ebbba3901",
       "version_major": 2,
       "version_minor": 0
      },
      "text/plain": [
       "Figure(axes=[ColorAxis(orientation='vertical', scale=ColorScale(scheme='Reds'), side='right'), Axis(orientatio…"
      ]
     },
     "metadata": {},
     "output_type": "display_data"
    }
   ],
   "source": [
    "# stir and combine into 1 figure\n",
    "fig = bqplot.Figure(marks = [heat_map], \n",
    "                    axes = [c_ax, y_ax, x_ax])\n",
    "\n",
    "fig"
   ]
  },
  {
   "cell_type": "markdown",
   "metadata": {},
   "source": [
    "So, we are almost there -- we don't have any interactivity!  Let's get into it.  In this case, we can actually specify the interaction when we are constructing the `GridHeatMap` mark.  Let's do something when we click on each square.  We can do this with a `click-select` interaction.  "
   ]
  },
  {
   "cell_type": "code",
   "execution_count": 38,
   "metadata": {},
   "outputs": [
    {
     "data": {
      "application/vnd.jupyter.widget-view+json": {
       "model_id": "0f0ef527053940b0a02284bd072030e7",
       "version_major": 2,
       "version_minor": 0
      },
      "text/plain": [
       "Figure(axes=[ColorAxis(orientation='vertical', scale=ColorScale(scheme='Reds'), side='right'), Axis(orientatio…"
      ]
     },
     "metadata": {},
     "output_type": "display_data"
    }
   ],
   "source": [
    "# 1. Data -- same\n",
    "\n",
    "# 2. Scales -- recopy our scales and axis for posterity:\n",
    "col_sc = bqplot.ColorScale(scheme = \"Reds\")\n",
    "x_sc = bqplot.OrdinalScale()\n",
    "y_sc = bqplot.OrdinalScale()\n",
    "\n",
    "# 3. Axis -- create axis - for colors, x & y\n",
    "c_ax = bqplot.ColorAxis(scale = col_sc, \n",
    "                        orientation = 'vertical', \n",
    "                        side = 'right')\n",
    "x_ax = bqplot.Axis(scale = x_sc)\n",
    "y_ax = bqplot.Axis(scale = y_sc, \n",
    "                   orientation = 'vertical')\n",
    "\n",
    "# 4. Marks -- lets now re-do our heat map & add in some interactivity:\n",
    "heat_map = bqplot.GridHeatMap(color = data,\n",
    "                              scales = {'color': col_sc,\n",
    "                                        'row': y_sc,\n",
    "                                        'column': x_sc},\n",
    "                              interactions = {'click': 'select'}, # make interactive on click of each box\n",
    "                              anchor_style = {'fill':'blue'}, # to make our selection blue\n",
    "                              selected_style = {'opacity': 1.0}, # make 100% opaque if box is selected\n",
    "                              unselected_style = {'opacity': 0.8}) # make a little see-through if not\n",
    "\n",
    "# 5. Note: I put interactions in my marks call here!\n",
    "\n",
    "# stir and combine into 1 figure\n",
    "fig = bqplot.Figure(marks = [heat_map], \n",
    "                    axes = [c_ax, y_ax, x_ax])\n",
    "\n",
    "fig"
   ]
  },
  {
   "cell_type": "markdown",
   "metadata": {},
   "source": [
    "Ok fine, but our selection isn't linked to anything! Lets check out what heat_map selected actually is before we decide to do something with it:"
   ]
  },
  {
   "cell_type": "code",
   "execution_count": 39,
   "metadata": {},
   "outputs": [],
   "source": [
    "heat_map.selected\n",
    "#  note if I select a different box & re-run this cell,\n",
    "#  I get out different values"
   ]
  },
  {
   "cell_type": "markdown",
   "metadata": {},
   "source": [
    "So the *trait* of the heat_map that gets updated when we select a box is the x/y indicies.\n",
    "\n",
    "Let's start simple: write a little function that links the data value to the selected & lets print this in a little ipywidgets label:"
   ]
  },
  {
   "cell_type": "code",
   "execution_count": 40,
   "metadata": {},
   "outputs": [],
   "source": [
    "mySelectedLabel = ipywidgets.Label()"
   ]
  },
  {
   "cell_type": "markdown",
   "metadata": {},
   "source": [
    "Let's now define what happens to this label when our heatmap is selected.  If we recall back to when we started learning about ipywidgets and traitlets, this will be a change in the `mySelectedLabel` widget's *value* when a *trait* of our `GridHeatMap` object changes.\n",
    "\n",
    "First, let's define this action, starting simple: just print out whatever is selected:"
   ]
  },
  {
   "cell_type": "code",
   "execution_count": 41,
   "metadata": {},
   "outputs": [],
   "source": [
    "def on_selected(change):\n",
    "    print(change)"
   ]
  },
  {
   "cell_type": "markdown",
   "metadata": {},
   "source": [
    "Now, let's re-construct our heatmap and link this `on_selected` function to the *trait* of the selected heatmap:"
   ]
  },
  {
   "cell_type": "code",
   "execution_count": 42,
   "metadata": {},
   "outputs": [
    {
     "data": {
      "application/vnd.jupyter.widget-view+json": {
       "model_id": "803a3bcb23d74d5a97023c9642a3f04c",
       "version_major": 2,
       "version_minor": 0
      },
      "text/plain": [
       "Figure(axes=[ColorAxis(orientation='vertical', scale=ColorScale(scheme='Reds'), side='right'), Axis(orientatio…"
      ]
     },
     "metadata": {},
     "output_type": "display_data"
    }
   ],
   "source": [
    "# 1. Data -- same\n",
    "\n",
    "# 2. Scales -- recopy our scales and axis for posterity:\n",
    "col_sc = bqplot.ColorScale(scheme = \"Reds\")\n",
    "x_sc = bqplot.OrdinalScale()\n",
    "y_sc = bqplot.OrdinalScale()\n",
    "\n",
    "# 3. Axis -- create axis - for colors, x & y\n",
    "c_ax = bqplot.ColorAxis(scale = col_sc, \n",
    "                        orientation = 'vertical', \n",
    "                        side = 'right')\n",
    "x_ax = bqplot.Axis(scale = x_sc)\n",
    "y_ax = bqplot.Axis(scale = y_sc, \n",
    "                   orientation = 'vertical')\n",
    "\n",
    "# 4. Marks -- lets now re-do our heat map & add in some interactivity:\n",
    "heat_map = bqplot.GridHeatMap(color = data,\n",
    "                              scales = {'color': col_sc,\n",
    "                                        'row': y_sc,\n",
    "                                        'column': x_sc},\n",
    "                              interactions = {'click': 'select'}, # make interactive on click of each box\n",
    "                              anchor_style = {'fill':'blue'}, # to make our selection blue\n",
    "                              selected_style = {'opacity': 1.0}, # make 100% opaque if box is selected\n",
    "                              unselected_style = {'opacity': 0.8}) # make a little see-through if not\n",
    "\n",
    "# 5. Note: I put interactions in my marks call here.  BUT now we want to actually DO something with our selection\n",
    "## THIS IS ALL WE HAVE ADDED!\n",
    "heat_map.observe(on_selected, 'selected')\n",
    "\n",
    "\n",
    "# stir and combine into 1 figure\n",
    "fig = bqplot.Figure(marks = [heat_map], \n",
    "                    axes = [c_ax, y_ax, x_ax])\n",
    "\n",
    "fig"
   ]
  },
  {
   "cell_type": "markdown",
   "metadata": {},
   "source": [
    "So, we can see that what gets printed out when we select is a dictionary -- this is like a \"change\" dictionary with an ipywidget that we played with last week and it has some familiar things in it like the `old` and `new` keys, the `owner` key, etc.  \n",
    "\n",
    "Check out the `selected=array...` in the above -- this is how we can grab the index of whatever grid we have selected.\n",
    "\n",
    "It also is storing a lot of information about our `GridHeatMap` plot!  \n",
    "\n",
    "Since the change \"owner\" is our heat_map marks, let's print these out so we can access the indicies.  Once we do this, we can then use these indicies to access the data in our plot.  \n",
    "\n",
    "One thing at a time though - let's just print out the selected indicies:"
   ]
  },
  {
   "cell_type": "code",
   "execution_count": 43,
   "metadata": {},
   "outputs": [],
   "source": [
    "def on_selected(change):\n",
    "    print(change['owner'].selected)"
   ]
  },
  {
   "cell_type": "code",
   "execution_count": 44,
   "metadata": {},
   "outputs": [
    {
     "data": {
      "application/vnd.jupyter.widget-view+json": {
       "model_id": "38f5defbbd7341b7915df823cf50603b",
       "version_major": 2,
       "version_minor": 0
      },
      "text/plain": [
       "Figure(axes=[ColorAxis(orientation='vertical', scale=ColorScale(scheme='Reds'), side='right'), Axis(orientatio…"
      ]
     },
     "metadata": {},
     "output_type": "display_data"
    }
   ],
   "source": [
    "# 1. Data -- same\n",
    "\n",
    "# 2. Scales -- recopy our scales and axis for posterity:\n",
    "col_sc = bqplot.ColorScale(scheme = \"Reds\")\n",
    "x_sc = bqplot.OrdinalScale()\n",
    "y_sc = bqplot.OrdinalScale()\n",
    "\n",
    "# 3. Axis -- create axis - for colors, x & y\n",
    "c_ax = bqplot.ColorAxis(scale = col_sc, \n",
    "                        orientation = 'vertical', \n",
    "                        side = 'right')\n",
    "x_ax = bqplot.Axis(scale = x_sc)\n",
    "y_ax = bqplot.Axis(scale = y_sc, \n",
    "                   orientation = 'vertical')\n",
    "\n",
    "# 4. Marks -- lets now re-do our heat map & add in some interactivity:\n",
    "heat_map = bqplot.GridHeatMap(color = data,\n",
    "                              scales = {'color': col_sc,\n",
    "                                        'row': y_sc,\n",
    "                                        'column': x_sc},\n",
    "                              interactions = {'click': 'select'}, # make interactive on click of each box\n",
    "                              anchor_style = {'fill':'blue'}, # to make our selection blue\n",
    "                              selected_style = {'opacity': 1.0}, # make 100% opaque if box is selected\n",
    "                              unselected_style = {'opacity': 0.8}) # make a little see-through if not\n",
    "\n",
    "# 5. Note: I put interactions in my marks call here.  BUT now we want to actually DO something with our selection\n",
    "## THIS IS ALL WE HAVE ADDED!\n",
    "heat_map.observe(on_selected, 'selected')\n",
    "\n",
    "\n",
    "# stir and combine into 1 figure\n",
    "fig = bqplot.Figure(marks = [heat_map], \n",
    "                    axes = [c_ax, y_ax, x_ax])\n",
    "\n",
    "fig"
   ]
  },
  {
   "cell_type": "markdown",
   "metadata": {},
   "source": [
    "It turns out we can actually `SHIFT-select` and select a selection of boxes at one time.  Depending on your browser/OS you can also use `CMD` or `CTRL`-select to select individual boxes.  However, this is a little bit dependent on how your browser/trackpad/mouse is set up.\n",
    "\n",
    "(`CMD`-select doesn't work in notebooks on my Mac, but it does in jupyter-lab.  Go fig.)\n",
    "\n",
    "**DEMONSTRATE**\n",
    "\n",
    "Because of this we actual `selected` set of indicies we want to access can be more than just x/y indicies - it can be an array of indicies representing all of the `SHIFT-select`ed points.\n",
    "\n",
    "For the sake of simplicity, let's *only* do things when we select one point.  So we will *only* take out the first element of this selected array.  Let's print this with our `on_selected` function:"
   ]
  },
  {
   "cell_type": "code",
   "execution_count": 45,
   "metadata": {},
   "outputs": [],
   "source": [
    "def on_selected(change):\n",
    "    if len(change['owner'].selected) == 1:\n",
    "        print(change['owner'].selected[0])\n",
    "    # else: don't update anything"
   ]
  },
  {
   "cell_type": "code",
   "execution_count": 46,
   "metadata": {},
   "outputs": [
    {
     "data": {
      "application/vnd.jupyter.widget-view+json": {
       "model_id": "78b4254a21944f41a6ea6cf8930c144a",
       "version_major": 2,
       "version_minor": 0
      },
      "text/plain": [
       "Figure(axes=[ColorAxis(orientation='vertical', scale=ColorScale(scheme='Reds'), side='right'), Axis(orientatio…"
      ]
     },
     "metadata": {},
     "output_type": "display_data"
    }
   ],
   "source": [
    "# 1. Data -- same\n",
    "\n",
    "# 2. Scales -- recopy our scales and axis for posterity:\n",
    "col_sc = bqplot.ColorScale(scheme = \"Reds\")\n",
    "x_sc = bqplot.OrdinalScale()\n",
    "y_sc = bqplot.OrdinalScale()\n",
    "\n",
    "# 3. Axis -- create axis - for colors, x & y\n",
    "c_ax = bqplot.ColorAxis(scale = col_sc, \n",
    "                        orientation = 'vertical', \n",
    "                        side = 'right')\n",
    "x_ax = bqplot.Axis(scale = x_sc)\n",
    "y_ax = bqplot.Axis(scale = y_sc, \n",
    "                   orientation = 'vertical')\n",
    "\n",
    "# 4. Marks -- lets now re-do our heat map & add in some interactivity:\n",
    "heat_map = bqplot.GridHeatMap(color = data,\n",
    "                              scales = {'color': col_sc,\n",
    "                                        'row': y_sc,\n",
    "                                        'column': x_sc},\n",
    "                              interactions = {'click': 'select'}, # make interactive on click of each box\n",
    "                              anchor_style = {'fill':'blue'}, # to make our selection blue\n",
    "                              selected_style = {'opacity': 1.0}, # make 100% opaque if box is selected\n",
    "                              unselected_style = {'opacity': 0.8}) # make a little see-through if not\n",
    "\n",
    "# 5. Note: I put interactions in my marks call here.  BUT now we want to actually DO something with our selection\n",
    "## THIS IS ALL WE HAVE ADDED!\n",
    "heat_map.observe(on_selected, 'selected')\n",
    "\n",
    "\n",
    "# stir and combine into 1 figure\n",
    "fig = bqplot.Figure(marks = [heat_map], \n",
    "                    axes = [c_ax, y_ax, x_ax])\n",
    "\n",
    "fig"
   ]
  },
  {
   "cell_type": "markdown",
   "metadata": {},
   "source": [
    "Now you'll notice if I `SHIFT-select` I still only get the set of x/y indicies associated with the blue selected point.  Sweet.\n",
    "\n",
    "Now that we have these indicies in our plot, we can (finally) update our Label widget to print out what the data value is at this point:"
   ]
  },
  {
   "cell_type": "code",
   "execution_count": 47,
   "metadata": {},
   "outputs": [],
   "source": [
    "def on_selected(change):\n",
    "    if len(change['owner'].selected) == 1: #only 1 selected\n",
    "        i, j = change['owner'].selected[0] # grab the x/y coordinates\n",
    "        v = data[i,j] # grab data value\n",
    "        mySelectedLabel.value = 'Data Value = ' + str(v) # set our label"
   ]
  },
  {
   "cell_type": "markdown",
   "metadata": {},
   "source": [
    "Now we just have to make sure we show both of the figure and the label when we display:"
   ]
  },
  {
   "cell_type": "code",
   "execution_count": 48,
   "metadata": {},
   "outputs": [
    {
     "data": {
      "application/vnd.jupyter.widget-view+json": {
       "model_id": "86fb8c887abb4bf689a280743a392107",
       "version_major": 2,
       "version_minor": 0
      },
      "text/plain": [
       "VBox(children=(Label(value=''), Figure(axes=[ColorAxis(orientation='vertical', scale=ColorScale(scheme='Reds')…"
      ]
     },
     "metadata": {},
     "output_type": "display_data"
    }
   ],
   "source": [
    "# 1. Data -- same\n",
    "\n",
    "# 2. Scales -- recopy our scales and axis for posterity:\n",
    "col_sc = bqplot.ColorScale(scheme = \"Reds\")\n",
    "x_sc = bqplot.OrdinalScale()\n",
    "y_sc = bqplot.OrdinalScale()\n",
    "\n",
    "# 3. Axis -- create axis - for colors, x & y\n",
    "c_ax = bqplot.ColorAxis(scale = col_sc, \n",
    "                        orientation = 'vertical', \n",
    "                        side = 'right')\n",
    "x_ax = bqplot.Axis(scale = x_sc)\n",
    "y_ax = bqplot.Axis(scale = y_sc, \n",
    "                   orientation = 'vertical')\n",
    "\n",
    "# 4. Marks -- lets now re-do our heat map & add in some interactivity:\n",
    "heat_map = bqplot.GridHeatMap(color = data,\n",
    "                              scales = {'color': col_sc,\n",
    "                                        'row': y_sc,\n",
    "                                        'column': x_sc},\n",
    "                              interactions = {'click': 'select'}, # make interactive on click of each box\n",
    "                              anchor_style = {'fill':'blue'}, # to make our selection blue\n",
    "                              selected_style = {'opacity': 1.0}, # make 100% opaque if box is selected\n",
    "                              unselected_style = {'opacity': 0.8}) # make a little see-through if not\n",
    "\n",
    "# 5. Note: I put interactions in my marks call here.  BUT now we want to actually DO something with our selection\n",
    "## THIS IS ALL WE HAVE ADDED!\n",
    "heat_map.observe(on_selected, 'selected')\n",
    "\n",
    "\n",
    "# stir and combine into 1 figure\n",
    "fig = bqplot.Figure(marks = [heat_map], \n",
    "                    axes = [c_ax, y_ax, x_ax])\n",
    "\n",
    "\n",
    "# ADDED: putting widget and plot together\n",
    "myDashboard = ipywidgets.VBox([mySelectedLabel, fig]) # have label on top of fig\n",
    "myDashboard # show"
   ]
  },
  {
   "cell_type": "markdown",
   "metadata": {},
   "source": [
    "Hey neat!  So now when we do an action, in this case selecting, on one object (the heat map) we have updates *tied to* another object, in this case we are also updating our label widget's value.\n",
    "\n",
    "This is how we will build up dashboards that allow us to display different aspects of our data in linked views.\n",
    "\n",
    "Let's practice one of these linked views now by making a linked histogram of a 3D dataset instead of printing the value with a 2D dataset."
   ]
  },
  {
   "cell_type": "markdown",
   "metadata": {},
   "source": [
    "## Random heatmap + Histogram with 3D data"
   ]
  },
  {
   "cell_type": "markdown",
   "metadata": {},
   "source": [
    "Now let's move on to making a preliminary dashboard for multi-dimensional datasets. Let's first start with some randomly generated data again, this time in 3D:"
   ]
  },
  {
   "cell_type": "code",
   "execution_count": 49,
   "metadata": {
    "scrolled": true
   },
   "outputs": [
    {
     "data": {
      "text/plain": [
       "array([[[0.20117314, 0.33354909, 0.10945804, ..., 0.95880471,\n",
       "         0.12157611, 0.74279734],\n",
       "        [0.22351515, 0.02501673, 0.58524262, ..., 0.45502543,\n",
       "         0.4885004 , 0.16323532],\n",
       "        [0.31833321, 0.09275388, 0.28649964, ..., 0.3799557 ,\n",
       "         0.45996814, 0.80212751],\n",
       "        ...,\n",
       "        [0.8579653 , 0.37049633, 0.03653937, ..., 0.66601038,\n",
       "         0.21159845, 0.05295993],\n",
       "        [0.2644555 , 0.90510281, 0.07915774, ..., 0.45189203,\n",
       "         0.6686609 , 0.75730371],\n",
       "        [0.77546636, 0.38706262, 0.42875134, ..., 0.0477016 ,\n",
       "         0.91900612, 0.82859832]],\n",
       "\n",
       "       [[0.90794893, 0.21171015, 0.89024247, ..., 0.70209318,\n",
       "         0.3926692 , 0.17451033],\n",
       "        [0.16400152, 0.74987085, 0.77410344, ..., 0.96721774,\n",
       "         0.62851563, 0.01800362],\n",
       "        [0.22279604, 0.92881665, 0.50988623, ..., 0.30340351,\n",
       "         0.68141243, 0.7054721 ],\n",
       "        ...,\n",
       "        [0.68650175, 0.2956913 , 0.44174999, ..., 0.51908975,\n",
       "         0.88144828, 0.44907433],\n",
       "        [0.52526558, 0.41491639, 0.78713843, ..., 0.76992919,\n",
       "         0.9476401 , 0.9730762 ],\n",
       "        [0.34137062, 0.25762717, 0.31836608, ..., 0.64463316,\n",
       "         0.09210699, 0.7184865 ]],\n",
       "\n",
       "       [[0.75781209, 0.69759149, 0.36090138, ..., 0.28844989,\n",
       "         0.70002514, 0.83621846],\n",
       "        [0.02858805, 0.79201829, 0.13876073, ..., 0.62469791,\n",
       "         0.94728946, 0.84545707],\n",
       "        [0.86821801, 0.69736779, 0.81811939, ..., 0.62712529,\n",
       "         0.73381823, 0.47855865],\n",
       "        ...,\n",
       "        [0.3138823 , 0.32331429, 0.35242199, ..., 0.03276897,\n",
       "         0.22414637, 0.22789583],\n",
       "        [0.0495182 , 0.53181075, 0.88829165, ..., 0.93228066,\n",
       "         0.90973603, 0.55341732],\n",
       "        [0.28869034, 0.3880204 , 0.23004931, ..., 0.44331192,\n",
       "         0.39377628, 0.02293835]],\n",
       "\n",
       "       ...,\n",
       "\n",
       "       [[0.04975577, 0.38849153, 0.40356455, ..., 0.65129545,\n",
       "         0.97930422, 0.25161949],\n",
       "        [0.83893191, 0.27627435, 0.05932596, ..., 0.33915065,\n",
       "         0.86741634, 0.88272944],\n",
       "        [0.86847856, 0.63888026, 0.32014156, ..., 0.58501093,\n",
       "         0.2402164 , 0.97351933],\n",
       "        ...,\n",
       "        [0.91343847, 0.90201225, 0.55795383, ..., 0.85417631,\n",
       "         0.1971001 , 0.04315524],\n",
       "        [0.4873197 , 0.07478504, 0.82151   , ..., 0.88992227,\n",
       "         0.00481301, 0.7040966 ],\n",
       "        [0.47913394, 0.02246896, 0.82843841, ..., 0.21462374,\n",
       "         0.89288548, 0.03175395]],\n",
       "\n",
       "       [[0.25185099, 0.48230873, 0.19457768, ..., 0.05151314,\n",
       "         0.97938811, 0.88507178],\n",
       "        [0.15938255, 0.37235716, 0.79815933, ..., 0.79532851,\n",
       "         0.32530984, 0.54802204],\n",
       "        [0.74196312, 0.89316205, 0.95287151, ..., 0.67024912,\n",
       "         0.66386825, 0.72358147],\n",
       "        ...,\n",
       "        [0.80172291, 0.97003756, 0.70872659, ..., 0.73498713,\n",
       "         0.69944044, 0.24384354],\n",
       "        [0.47657747, 0.92058618, 0.15689306, ..., 0.73504183,\n",
       "         0.40191473, 0.87336078],\n",
       "        [0.94524583, 0.35067947, 0.89976003, ..., 0.32979555,\n",
       "         0.31899892, 0.27566563]],\n",
       "\n",
       "       [[0.7449182 , 0.64069558, 0.91283171, ..., 0.08279446,\n",
       "         0.51686952, 0.6776656 ],\n",
       "        [0.34436814, 0.90304728, 0.49287086, ..., 0.59659635,\n",
       "         0.37929459, 0.1400388 ],\n",
       "        [0.71202446, 0.90299251, 0.53219165, ..., 0.11257527,\n",
       "         0.60772856, 0.95972612],\n",
       "        ...,\n",
       "        [0.2798625 , 0.44900958, 0.98629146, ..., 0.91816573,\n",
       "         0.02769102, 0.43772208],\n",
       "        [0.79141323, 0.68137239, 0.58872436, ..., 0.41355103,\n",
       "         0.23167339, 0.1487449 ],\n",
       "        [0.57400509, 0.04763741, 0.5562833 , ..., 0.08028715,\n",
       "         0.70584725, 0.75725822]]])"
      ]
     },
     "execution_count": 49,
     "metadata": {},
     "output_type": "execute_result"
    }
   ],
   "source": [
    "data = np.random.random((10, 10,20))\n",
    "data"
   ]
  },
  {
   "cell_type": "code",
   "execution_count": 50,
   "metadata": {},
   "outputs": [
    {
     "data": {
      "text/plain": [
       "(10, 10, 20)"
      ]
     },
     "execution_count": 50,
     "metadata": {},
     "output_type": "execute_result"
    }
   ],
   "source": [
    "data.shape"
   ]
  },
  {
   "cell_type": "code",
   "execution_count": 51,
   "metadata": {},
   "outputs": [
    {
     "data": {
      "text/plain": [
       "array([0.20117314, 0.33354909, 0.10945804, 0.48554365, 0.00830872,\n",
       "       0.80750939, 0.70719194, 0.72363394, 0.07663447, 0.76927971,\n",
       "       0.1359332 , 0.62120014, 0.64464403, 0.52468013, 0.88096981,\n",
       "       0.80954453, 0.3530135 , 0.95880471, 0.12157611, 0.74279734])"
      ]
     },
     "execution_count": 51,
     "metadata": {},
     "output_type": "execute_result"
    }
   ],
   "source": [
    "data[0,0,:]\n",
    "# we can see that no instead of 1 value, each \"i,j\" component\n",
    "#  has an array of values"
   ]
  },
  {
   "cell_type": "markdown",
   "metadata": {},
   "source": [
    "Make the heatmap plot like before.\n",
    "\n",
    "First, scales and axis (x/y and color):"
   ]
  },
  {
   "cell_type": "code",
   "execution_count": 52,
   "metadata": {},
   "outputs": [],
   "source": [
    "# Scales: now add scales - colors, x & y\n",
    "col_sc = bqplot.ColorScale(scheme = \"Reds\")\n",
    "x_sc = bqplot.OrdinalScale()\n",
    "y_sc = bqplot.OrdinalScale()\n",
    "\n",
    "# Axis: create axis - for colors, x & y\n",
    "c_ax = bqplot.ColorAxis(scale = col_sc, \n",
    "                        orientation = 'vertical', \n",
    "                        side = 'right')\n",
    "x_ax = bqplot.Axis(scale = x_sc)\n",
    "y_ax = bqplot.Axis(scale = y_sc, \n",
    "                   orientation = 'vertical')"
   ]
  },
  {
   "cell_type": "markdown",
   "metadata": {},
   "source": [
    "Now, instead of feeding in `data` like we did in 2D for our heatmap, let's feed in the sum of data along the z-axis:"
   ]
  },
  {
   "cell_type": "code",
   "execution_count": 53,
   "metadata": {},
   "outputs": [],
   "source": [
    "# Marks: lets now re-do our heat map & add in some interactivity:\n",
    "heat_map = bqplot.GridHeatMap(color = np.sum(data, axis=2),\n",
    "                              scales = {'color': col_sc,\n",
    "                                        'row': y_sc,\n",
    "                                        'column': x_sc},\n",
    "                              interactions = {'click': 'select'}, # make interactive on click of each box\n",
    "                              anchor_style = {'fill':'blue'}, # to make our selection blue\n",
    "                              selected_style = {'opacity': 1.0}, # make 100% opaque if box is selected\n",
    "                              unselected_style = {'opacity': 0.8}) # make a little see-through if not"
   ]
  },
  {
   "cell_type": "markdown",
   "metadata": {},
   "source": [
    "Let's include our label in our dashboard:"
   ]
  },
  {
   "cell_type": "code",
   "execution_count": 54,
   "metadata": {},
   "outputs": [],
   "source": [
    "# create label again\n",
    "mySelectedLabel = ipywidgets.Label()"
   ]
  },
  {
   "cell_type": "markdown",
   "metadata": {},
   "source": [
    "This time, let's have the data print out the sum along the z-axis instead of just a data value at an x/y index position:"
   ]
  },
  {
   "cell_type": "code",
   "execution_count": 55,
   "metadata": {},
   "outputs": [],
   "source": [
    "def on_selected(change):\n",
    "    if len(change['owner'].selected) == 1: #only 1 selected\n",
    "        i, j = change['owner'].selected[0] # grab the x/y coordinates\n",
    "        v = data[i,j].sum() # grab data value at x/y index and sum along z\n",
    "        mySelectedLabel.value = 'Data Sum = ' + str(v) # set our label"
   ]
  },
  {
   "cell_type": "markdown",
   "metadata": {},
   "source": [
    "Observe change:"
   ]
  },
  {
   "cell_type": "code",
   "execution_count": 56,
   "metadata": {},
   "outputs": [],
   "source": [
    "heat_map.observe(on_selected, 'selected')"
   ]
  },
  {
   "cell_type": "markdown",
   "metadata": {},
   "source": [
    "Combine and display:"
   ]
  },
  {
   "cell_type": "code",
   "execution_count": 57,
   "metadata": {},
   "outputs": [
    {
     "data": {
      "application/vnd.jupyter.widget-view+json": {
       "model_id": "b26060f6851646b68edaf214fa17ef7c",
       "version_major": 2,
       "version_minor": 0
      },
      "text/plain": [
       "VBox(children=(Label(value=''), Figure(axes=[ColorAxis(orientation='vertical', scale=ColorScale(scheme='Reds')…"
      ]
     },
     "metadata": {},
     "output_type": "display_data"
    }
   ],
   "source": [
    "fig = bqplot.Figure(marks = [heat_map], axes = [c_ax, y_ax, x_ax])\n",
    "\n",
    "myDashboard = ipywidgets.VBox([mySelectedLabel, fig])\n",
    "myDashboard"
   ]
  },
  {
   "cell_type": "markdown",
   "metadata": {},
   "source": [
    "Ultimately what we want to do is select an x/y grid and then \"expand\" our data along z into a histogram such that if we select a grid on our heatmap a new histogram is generated that shows the distribution of values along z.  \n",
    "\n",
    "Before we link these two things together, let's make a histogram of a single \"z\" value by fixing our x/y indicies:"
   ]
  },
  {
   "cell_type": "code",
   "execution_count": 58,
   "metadata": {},
   "outputs": [],
   "source": [
    "i,j = 0,0 # can be any combo"
   ]
  },
  {
   "cell_type": "code",
   "execution_count": 59,
   "metadata": {},
   "outputs": [
    {
     "data": {
      "text/plain": [
       "array([0.20117314, 0.33354909, 0.10945804, 0.48554365, 0.00830872,\n",
       "       0.80750939, 0.70719194, 0.72363394, 0.07663447, 0.76927971,\n",
       "       0.1359332 , 0.62120014, 0.64464403, 0.52468013, 0.88096981,\n",
       "       0.80954453, 0.3530135 , 0.95880471, 0.12157611, 0.74279734])"
      ]
     },
     "execution_count": 59,
     "metadata": {},
     "output_type": "execute_result"
    }
   ],
   "source": [
    "data[i,j] # 20 elements"
   ]
  },
  {
   "cell_type": "markdown",
   "metadata": {},
   "source": [
    "Let's make a histogram.    \n",
    "\n",
    "Let's think about what our x/y scales will be: we want to show the distribution of values along z.  Intuitavely, we know this will go between $\\sim$0-1 since we have randomly generated values.\n",
    "\n",
    "So, our \"x\" axis for this plot should be a linear scale so it can go from 0-1, and our \"y\" axis should be linear and will show the frequency of values in each bin.\n",
    "\n",
    "Scales:"
   ]
  },
  {
   "cell_type": "code",
   "execution_count": 60,
   "metadata": {},
   "outputs": [],
   "source": [
    "x_sch = bqplot.LinearScale()\n",
    "y_sch = bqplot.LinearScale()"
   ]
  },
  {
   "cell_type": "markdown",
   "metadata": {},
   "source": [
    "Let's make axis with these scales:"
   ]
  },
  {
   "cell_type": "code",
   "execution_count": 61,
   "metadata": {},
   "outputs": [],
   "source": [
    "x_axh = bqplot.Axis(scale = x_sch, label = 'Value of 3rd axis')\n",
    "y_axh = bqplot.Axis(scale = y_sch, \n",
    "                    orientation = 'vertical', \n",
    "                    label='Frequency')"
   ]
  },
  {
   "cell_type": "markdown",
   "metadata": {},
   "source": [
    "Now we will use `bqplot.Hist` to make this histogram:"
   ]
  },
  {
   "cell_type": "code",
   "execution_count": 62,
   "metadata": {},
   "outputs": [],
   "source": [
    "hist = bqplot.Hist(sample = data[i,j,:],\n",
    "                   normalized = False, # normalized=False means we get counts in each bin\n",
    "                   scales = {'sample': x_sch, 'count': y_sch}, # sample is data values, count is frequency\n",
    "                   bins = 5) # number of bins"
   ]
  },
  {
   "cell_type": "markdown",
   "metadata": {},
   "source": [
    "Note here that we specified this plot in a different way than the `GridHeatMap` and `Scatter` -- each type of `bqplot` plot has different parameters associated with the type of plot we are using."
   ]
  },
  {
   "cell_type": "code",
   "execution_count": 63,
   "metadata": {},
   "outputs": [
    {
     "data": {
      "application/vnd.jupyter.widget-view+json": {
       "model_id": "a0b24de6bf2543dcb2c7d5359c76c832",
       "version_major": 2,
       "version_minor": 0
      },
      "text/plain": [
       "Figure(axes=[Axis(label='Value of 3rd axis', scale=LinearScale(), side='bottom'), Axis(label='Frequency', orie…"
      ]
     },
     "metadata": {},
     "output_type": "display_data"
    }
   ],
   "source": [
    "figh = bqplot.Figure(marks = [hist], axes = [x_axh, y_axh])\n",
    "figh"
   ]
  },
  {
   "cell_type": "markdown",
   "metadata": {},
   "source": [
    "Let's pause here and think about how to link up our histogram i,j with our selections on the heatmap.  First, what values of the histogram can we update?  Let's check:"
   ]
  },
  {
   "cell_type": "code",
   "execution_count": 64,
   "metadata": {},
   "outputs": [
    {
     "data": {
      "text/plain": [
       "['_model_module',\n",
       " '_model_module_version',\n",
       " '_model_name',\n",
       " '_view_count',\n",
       " '_view_module',\n",
       " '_view_module_version',\n",
       " '_view_name',\n",
       " 'apply_clip',\n",
       " 'bins',\n",
       " 'colors',\n",
       " 'count',\n",
       " 'display_legend',\n",
       " 'enable_hover',\n",
       " 'interactions',\n",
       " 'labels',\n",
       " 'midpoints',\n",
       " 'normalized',\n",
       " 'opacities',\n",
       " 'preserve_domain',\n",
       " 'sample',\n",
       " 'scales',\n",
       " 'scales_metadata',\n",
       " 'selected',\n",
       " 'selected_style',\n",
       " 'stroke',\n",
       " 'tooltip',\n",
       " 'tooltip_location',\n",
       " 'tooltip_style',\n",
       " 'unselected_style',\n",
       " 'visible']"
      ]
     },
     "execution_count": 64,
     "metadata": {},
     "output_type": "execute_result"
    }
   ],
   "source": [
    "hist.keys"
   ]
  },
  {
   "cell_type": "code",
   "execution_count": 65,
   "metadata": {},
   "outputs": [
    {
     "data": {
      "text/plain": [
       "array([0.20117314, 0.33354909, 0.10945804, 0.48554365, 0.00830872,\n",
       "       0.80750939, 0.70719194, 0.72363394, 0.07663447, 0.76927971,\n",
       "       0.1359332 , 0.62120014, 0.64464403, 0.52468013, 0.88096981,\n",
       "       0.80954453, 0.3530135 , 0.95880471, 0.12157611, 0.74279734])"
      ]
     },
     "execution_count": 65,
     "metadata": {},
     "output_type": "execute_result"
    }
   ],
   "source": [
    "hist.sample"
   ]
  },
  {
   "cell_type": "markdown",
   "metadata": {},
   "source": [
    "Hey!  Here is where our data values are stored!  Like with when we observe changes in our heat map and update the values of our ipywidget's value we want to also update this sample's data!  \n",
    "\n",
    "Let's update our `on_selected` function to reflect this:"
   ]
  },
  {
   "cell_type": "code",
   "execution_count": 66,
   "metadata": {},
   "outputs": [],
   "source": [
    "def on_selected(change):\n",
    "    if len(change['owner'].selected) == 1: #only 1 selected\n",
    "        i, j = change['owner'].selected[0] # grab the x/y coordinates\n",
    "        v = data[i,j].sum() # grab data value at x/y index and sum along z\n",
    "        mySelectedLabel.value = 'Data Sum = ' + str(v) # set our label\n",
    "        # NOW ALSO: update our histogram\n",
    "        hist.sample = data[i,j,:]"
   ]
  },
  {
   "cell_type": "markdown",
   "metadata": {},
   "source": [
    "We don't have to go through the exersise of rebuilding our heatmap and histogram in general, but let's just do it for the sake of completeness and not accidentally re-linking thinks we shouldn't:"
   ]
  },
  {
   "cell_type": "markdown",
   "metadata": {},
   "source": [
    "#1 heatmap:"
   ]
  },
  {
   "cell_type": "code",
   "execution_count": 67,
   "metadata": {},
   "outputs": [],
   "source": [
    "# (1) Scales: x/y, colors\n",
    "col_sc = bqplot.ColorScale(scheme = \"Reds\")\n",
    "x_sc = bqplot.OrdinalScale()\n",
    "y_sc = bqplot.OrdinalScale()\n",
    "\n",
    "# (2) Axis: x/y, colors\n",
    "c_ax = bqplot.ColorAxis(scale = col_sc, \n",
    "                        orientation = 'vertical', \n",
    "                        side = 'right')\n",
    "x_ax = bqplot.Axis(scale = x_sc)\n",
    "y_ax = bqplot.Axis(scale = y_sc, \n",
    "                   orientation = 'vertical')\n",
    "\n",
    "# (3) Marks: heatmap\n",
    "heat_map = bqplot.GridHeatMap(color = np.sum(data, axis=2),\n",
    "                              scales = {'color': col_sc,\n",
    "                                        'row': y_sc,\n",
    "                                        'column': x_sc},\n",
    "                              interactions = {'click': 'select'}, # make interactive on click of each box\n",
    "                              anchor_style = {'fill':'blue'}, # to make our selection blue\n",
    "                              selected_style = {'opacity': 1.0}, # make 100% opaque if box is selected\n",
    "                              unselected_style = {'opacity': 0.8}) # make a little see-through if not\n",
    "\n",
    "# (4) Link selection on heatmap to other things\n",
    "heat_map.observe(on_selected, 'selected')\n",
    "\n",
    "# (5) Paint heatmap canvas, don't display yet:\n",
    "fig_heatmap = bqplot.Figure(marks = [heat_map], axes = [c_ax, y_ax, x_ax])"
   ]
  },
  {
   "cell_type": "markdown",
   "metadata": {},
   "source": [
    "#2 histogram:"
   ]
  },
  {
   "cell_type": "code",
   "execution_count": 68,
   "metadata": {},
   "outputs": [],
   "source": [
    "# (1) scales: x/y, linear\n",
    "x_sch = bqplot.LinearScale() # range of z-axis data\n",
    "y_sch = bqplot.LinearScale() # frequency of z-axis data in bins\n",
    "\n",
    "# (2) axis: x/y\n",
    "x_axh = bqplot.Axis(scale = x_sch, label = 'Value of 3rd axis')\n",
    "y_axh = bqplot.Axis(scale = y_sch, \n",
    "                    orientation = 'vertical', \n",
    "                    label='Frequency')\n",
    "\n",
    "# (3) Marks: histogram - start with just 0,0 in i/j -- can do other place holders\n",
    "hist = bqplot.Hist(sample = data[0,0,:],\n",
    "                   normalized = False, # normalized=False means we get counts in each bin\n",
    "                   scales = {'sample': x_sch, 'count': y_sch}, # sample is data values, count is frequency\n",
    "                   bins = 5) # number of bins\n",
    "\n",
    "# (4) NO LINKING ON HISTOGRAM SIDE\n",
    "\n",
    "# (5) Paint histogram canvas, don't display yet\n",
    "fig_hist = bqplot.Figure(marks = [hist], axes = [x_axh, y_axh])"
   ]
  },
  {
   "cell_type": "markdown",
   "metadata": {},
   "source": [
    "Create dashboard layout and display:"
   ]
  },
  {
   "cell_type": "code",
   "execution_count": 69,
   "metadata": {},
   "outputs": [
    {
     "data": {
      "application/vnd.jupyter.widget-view+json": {
       "model_id": "0731d39ace6b42299e756d927c437d6d",
       "version_major": 2,
       "version_minor": 0
      },
      "text/plain": [
       "VBox(children=(Label(value='Data Sum = 9.422803581996197'), HBox(children=(Figure(axes=[ColorAxis(orientation=…"
      ]
     },
     "metadata": {},
     "output_type": "display_data"
    }
   ],
   "source": [
    "# side by side figures\n",
    "figures = ipywidgets.HBox([fig_heatmap, fig_hist])\n",
    "\n",
    "# label on top\n",
    "myDashboard = ipywidgets.VBox([mySelectedLabel, figures])\n",
    "myDashboard"
   ]
  },
  {
   "cell_type": "markdown",
   "metadata": {},
   "source": [
    "Ok close, but its all smooshed!  We can play with the layout of our plots before we display.  To do this we use some more CSS-like styling options, in particular, `layout`:"
   ]
  },
  {
   "cell_type": "code",
   "execution_count": 70,
   "metadata": {},
   "outputs": [
    {
     "data": {
      "application/vnd.jupyter.widget-view+json": {
       "model_id": "02f99ca3c77241f3b64fb85c8cd5249a",
       "version_major": 2,
       "version_minor": 0
      },
      "text/plain": [
       "VBox(children=(Label(value='Data Sum = 9.068492281292356'), HBox(children=(Figure(axes=[ColorAxis(orientation=…"
      ]
     },
     "metadata": {},
     "output_type": "display_data"
    }
   ],
   "source": [
    "# mess with figure layout:\n",
    "fig_heatmap.layout.min_width = '500px' # feel free to change for your screen\n",
    "fig_hist.layout.min_width = '500px'\n",
    "\n",
    "# side by side figures\n",
    "figures = ipywidgets.HBox([fig_heatmap, fig_hist])\n",
    "\n",
    "# label on top\n",
    "myDashboard = ipywidgets.VBox([mySelectedLabel, figures])\n",
    "myDashboard"
   ]
  },
  {
   "cell_type": "markdown",
   "metadata": {},
   "source": [
    "Note that update was \"back-reactive\" in that it changed the figure layout above as well!  Super sweet!"
   ]
  },
  {
   "cell_type": "markdown",
   "metadata": {},
   "source": [
    "#### Further complications: linking in different directions\n",
    "\n",
    "We can also apply some other links to further enhance our dashboard.  One that we've messed with before is allowing the user to select the number of bins of a histogram.\n",
    "\n",
    "There are a few ways to do this, but one \"easier\" way is to just link the histogram \"bins\" with the value of a bins-slider.  \n",
    "\n",
    "If we recall: `bins` was another key that was listed in hist:"
   ]
  },
  {
   "cell_type": "code",
   "execution_count": 71,
   "metadata": {},
   "outputs": [
    {
     "data": {
      "text/plain": [
       "['_model_module',\n",
       " '_model_module_version',\n",
       " '_model_name',\n",
       " '_view_count',\n",
       " '_view_module',\n",
       " '_view_module_version',\n",
       " '_view_name',\n",
       " 'apply_clip',\n",
       " 'bins',\n",
       " 'colors',\n",
       " 'count',\n",
       " 'display_legend',\n",
       " 'enable_hover',\n",
       " 'interactions',\n",
       " 'labels',\n",
       " 'midpoints',\n",
       " 'normalized',\n",
       " 'opacities',\n",
       " 'preserve_domain',\n",
       " 'sample',\n",
       " 'scales',\n",
       " 'scales_metadata',\n",
       " 'selected',\n",
       " 'selected_style',\n",
       " 'stroke',\n",
       " 'tooltip',\n",
       " 'tooltip_location',\n",
       " 'tooltip_style',\n",
       " 'unselected_style',\n",
       " 'visible']"
      ]
     },
     "execution_count": 71,
     "metadata": {},
     "output_type": "execute_result"
    }
   ],
   "source": [
    "hist.keys"
   ]
  },
  {
   "cell_type": "code",
   "execution_count": 72,
   "metadata": {},
   "outputs": [],
   "source": [
    "hist.bins = 5 # this changes the bins of our histogram above in a back-reactive way -- traitlets magic!"
   ]
  },
  {
   "cell_type": "markdown",
   "metadata": {},
   "source": [
    "Let's add a little integer slider to allow our user to select the number of bins for the histogram:"
   ]
  },
  {
   "cell_type": "code",
   "execution_count": 73,
   "metadata": {},
   "outputs": [],
   "source": [
    "bins_slider = ipywidgets.IntSlider(value=5, min=1, max=data.shape[2]) # don't make more bins than data points!"
   ]
  },
  {
   "cell_type": "markdown",
   "metadata": {},
   "source": [
    "A reminder of what this looks like:"
   ]
  },
  {
   "cell_type": "code",
   "execution_count": 74,
   "metadata": {},
   "outputs": [
    {
     "data": {
      "application/vnd.jupyter.widget-view+json": {
       "model_id": "5bfa948016a44832bde43ff9a922b7c0",
       "version_major": 2,
       "version_minor": 0
      },
      "text/plain": [
       "IntSlider(value=5, max=20, min=1)"
      ]
     },
     "metadata": {},
     "output_type": "display_data"
    }
   ],
   "source": [
    "bins_slider"
   ]
  },
  {
   "cell_type": "markdown",
   "metadata": {},
   "source": [
    "We can use `link` or `jslink` to link the value of this slider to our histogram's number of bins:"
   ]
  },
  {
   "cell_type": "code",
   "execution_count": 75,
   "metadata": {},
   "outputs": [
    {
     "data": {
      "text/plain": [
       "Link(source=(IntSlider(value=5, max=20, min=1), 'value'), target=(Hist(bins=5, colors=['steelblue'], count=arr…"
      ]
     },
     "metadata": {},
     "output_type": "display_data"
    }
   ],
   "source": [
    "ipywidgets.jslink((bins_slider, 'value'), (hist, 'bins'))"
   ]
  },
  {
   "cell_type": "markdown",
   "metadata": {},
   "source": [
    "While this change is \"backreactive\", let's redo our figure layout so we can see everything a bit better:"
   ]
  },
  {
   "cell_type": "code",
   "execution_count": 76,
   "metadata": {},
   "outputs": [
    {
     "data": {
      "application/vnd.jupyter.widget-view+json": {
       "model_id": "40cde098fb7f421380d9861c0ad7106e",
       "version_major": 2,
       "version_minor": 0
      },
      "text/plain": [
       "VBox(children=(HBox(children=(Label(value='Data Sum = 13.872925782567126'), IntSlider(value=5, max=20, min=1))…"
      ]
     },
     "metadata": {},
     "output_type": "display_data"
    }
   ],
   "source": [
    "# mess with figure layout:\n",
    "fig_heatmap.layout.min_width = '500px' # feel free to change for your screen\n",
    "fig_hist.layout.min_width = '500px'\n",
    "\n",
    "# side by side figures\n",
    "figures = ipywidgets.HBox([fig_heatmap, fig_hist])\n",
    "\n",
    "# label on top to the left, bins slider to the right\n",
    "controls = ipywidgets.HBox([mySelectedLabel, bins_slider])\n",
    "\n",
    "# combined\n",
    "myDashboard = ipywidgets.VBox([controls, figures])\n",
    "myDashboard"
   ]
  },
  {
   "cell_type": "markdown",
   "metadata": {},
   "source": [
    "## Interactive plots with bqplot's matplotlib-like interface\n",
    "\n",
    "There is a `matplotlib`-like interface in `bqplot` that we can also use to make interactive figures."
   ]
  },
  {
   "cell_type": "code",
   "execution_count": 77,
   "metadata": {},
   "outputs": [],
   "source": [
    "import bqplot.pyplot as bplt"
   ]
  },
  {
   "cell_type": "markdown",
   "metadata": {},
   "source": [
    "We can start with our gridded heatmap:"
   ]
  },
  {
   "cell_type": "code",
   "execution_count": 78,
   "metadata": {},
   "outputs": [
    {
     "data": {
      "application/vnd.jupyter.widget-view+json": {
       "model_id": "abd48229c943495aa80461f6c619b29a",
       "version_major": 2,
       "version_minor": 0
      },
      "text/plain": [
       "Figure(axes=[ColorAxis(scale=ColorScale()), Axis(orientation='vertical', scale=OrdinalScale(reverse=True)), Ax…"
      ]
     },
     "metadata": {},
     "output_type": "display_data"
    }
   ],
   "source": [
    "# first let's set up a figure object - the call is a little different for bqplot\n",
    "fig = bplt.figure(padding_y=0.0)\n",
    "\n",
    "# we'll call plt's gridheatmap function\n",
    "heat_map = bplt.gridheatmap(data[:,:,0]) # just take bottom part of data\n",
    "fig"
   ]
  },
  {
   "cell_type": "markdown",
   "metadata": {},
   "source": [
    "We can make our plots interactive in much the same way as before:"
   ]
  },
  {
   "cell_type": "code",
   "execution_count": 79,
   "metadata": {},
   "outputs": [],
   "source": [
    "# same function as before:\n",
    "def on_selected_bplt(change):\n",
    "    if len(change['owner'].selected) == 1: #only 1 selected\n",
    "        i, j = change['owner'].selected[0] # grab the x/y coordinates\n",
    "        v = data[i,j].sum() # grab data value at x/y index and sum along z\n",
    "        mySelectedLabel.value = 'Data Sum = ' + str(v) # set our label\n",
    "        # NOW ALSO: update our histogram\n",
    "        hist.sample = data[i,j,:]"
   ]
  },
  {
   "cell_type": "code",
   "execution_count": 80,
   "metadata": {},
   "outputs": [],
   "source": [
    "mySelectedLabel = ipywidgets.Label()"
   ]
  },
  {
   "cell_type": "code",
   "execution_count": 81,
   "metadata": {},
   "outputs": [
    {
     "data": {
      "application/vnd.jupyter.widget-view+json": {
       "model_id": "69f06d5f91d94af0b77893b3b1ec84b4",
       "version_major": 2,
       "version_minor": 0
      },
      "text/plain": [
       "VBox(children=(Label(value=''), Figure(axes=[ColorAxis(scale=ColorScale(scheme='Reds'), side='top'), Axis(labe…"
      ]
     },
     "metadata": {},
     "output_type": "display_data"
    }
   ],
   "source": [
    "fig = bplt.figure(padding_y=0.0) # set up a figure object\n",
    "bplt.scales(scales={'color':bqplot.ColorScale(scheme='Reds')})\n",
    "\n",
    "# use bqplot's plt interface to plot:\n",
    "heat_map = bplt.gridheatmap(np.sum(data, axis=2),\n",
    "                            interactions={'click':'select'}, \n",
    "                            anchor_style = {'fill':'blue'})\n",
    "\n",
    "# hook heat_maps selected value to the label \n",
    "heat_map.observe(on_selected_bplt, 'selected')\n",
    "\n",
    "# change labels\n",
    "fig.axes[2].label = 'X' # xaxes label\n",
    "fig.axes[1].label = 'Y' # yaxes label\n",
    "\n",
    "# 0 is the colorbar axis\n",
    "fig.axes[0].orientation = 'horizontal'\n",
    "fig.axes[0].side = 'top' # vertical and side=right don't work rightnow?\n",
    "\n",
    "# show both the fig and label in a vertical box\n",
    "ipywidgets.VBox([mySelectedLabel,fig])"
   ]
  },
  {
   "cell_type": "code",
   "execution_count": 82,
   "metadata": {},
   "outputs": [
    {
     "data": {
      "application/vnd.jupyter.widget-view+json": {
       "model_id": "fcd5bc7097ae4b38bf6e815bf69b0f56",
       "version_major": 2,
       "version_minor": 0
      },
      "text/plain": [
       "Figure(axes=[Axis(label='Frequency', orientation='vertical', scale=LinearScale()), Axis(label='Z values', scal…"
      ]
     },
     "metadata": {},
     "output_type": "display_data"
    }
   ],
   "source": [
    "fig_hist = bplt.figure(padding_y=0.0) # set up a figure object\n",
    "\n",
    "# use bqplot's plt interface to plot:\n",
    "hist = bplt.hist(sample = data[0,0,:],\n",
    "                   normalized = False, # normalized=False means we get counts in each bin\n",
    "                   bins = 5) \n",
    "\n",
    "# change labels\n",
    "fig_hist.axes[1].label = 'Z values' # xaxes label\n",
    "fig_hist.axes[0].label = 'Frequency' # yaxes label\n",
    "\n",
    "fig_hist # empty plot of x/y"
   ]
  },
  {
   "cell_type": "code",
   "execution_count": 83,
   "metadata": {},
   "outputs": [
    {
     "data": {
      "application/vnd.jupyter.widget-view+json": {
       "model_id": "1c0cbe5b1b984c29842bb46d3d0072a1",
       "version_major": 2,
       "version_minor": 0
      },
      "text/plain": [
       "VBox(children=(Label(value=''), HBox(children=(Figure(axes=[ColorAxis(scale=ColorScale(scheme='Reds'), side='t…"
      ]
     },
     "metadata": {},
     "output_type": "display_data"
    }
   ],
   "source": [
    "fig.layout.min_width='500px'\n",
    "fig_hist.layout.min_width='500px'\n",
    "\n",
    "ipywidgets.VBox([mySelectedLabel,\n",
    "                 ipywidgets.HBox([fig,fig_hist])])"
   ]
  },
  {
   "cell_type": "markdown",
   "metadata": {},
   "source": [
    "## Extras: Interactive histogramming with bqplot\n",
    "\n",
    "Now, lets try some interactive histogramming of our buildings data:"
   ]
  },
  {
   "cell_type": "code",
   "execution_count": 84,
   "metadata": {},
   "outputs": [],
   "source": [
    "import pandas as pd\n",
    "buildings = pd.read_csv(\"https://uiuc-ischool-dataviz.github.io/is445_AOUAOG_fall2021/week02/data/building_inventory.csv\",\n",
    "                        na_values = {'Year Acquired': 0, \n",
    "                                     'Year Constructed': 0, \n",
    "                                     'Square Footage': 0})"
   ]
  },
  {
   "cell_type": "markdown",
   "metadata": {},
   "source": [
    "Let's create some linear scales and attach axis like before:"
   ]
  },
  {
   "cell_type": "code",
   "execution_count": 85,
   "metadata": {},
   "outputs": [
    {
     "data": {
      "application/vnd.jupyter.widget-view+json": {
       "model_id": "fb4b986b6fd14dd0aba6ab949c056f69",
       "version_major": 2,
       "version_minor": 0
      },
      "text/plain": [
       "VBox(children=(Figure(axes=[Axis(scale=LinearScale()), Axis(orientation='vertical', scale=LinearScale())], fig…"
      ]
     },
     "metadata": {},
     "output_type": "display_data"
    }
   ],
   "source": [
    "# since buildings is our data, we don't have to do anything\n",
    "#  with that, but we do need to create our scales and \n",
    "# axes like we've been doing before:\n",
    "# (1)\n",
    "x_sc = bqplot.LinearScale()\n",
    "y_sc = bqplot.LinearScale()\n",
    "x_ax = bqplot.Axis(scale = x_sc)\n",
    "y_ax = bqplot.Axis(scale = y_sc, orientation = 'vertical')\n",
    "\n",
    "# (2) now, lets do an interactive rebinning, but lets\n",
    "# use bqplot and a slider widget to do it\n",
    "hist = bqplot.Hist(sample = buildings[\"Year Acquired\"],\n",
    "            scales = {'sample': x_sc, 'count': y_sc},\n",
    "                   bins = 128, normalized = True,\n",
    "                   colors = [\"#FFFFFF\"])\n",
    "\n",
    "# lets also create a slider like we've done before\n",
    "islider = ipywidgets.IntSlider(min = 8, max = 128, step = 1)\n",
    "# and lets link our sider and our bins of our histogram\n",
    "ipywidgets.link((islider, 'value'), (hist, 'bins'))\n",
    "# construct a fig\n",
    "#fig = bqplot.Figure(marks = [hist], axes = [x_ax, y_ax])\n",
    "# ***RUN NEXT CELL BEFORE ADDING 2ND HIST\n",
    "\n",
    "# (3) ok, but maybe we want to see our original histogram\n",
    "#  underneath, lets add this to our figure\n",
    "hist2 = bqplot.Hist(sample = buildings[\"Year Acquired\"],\n",
    "                   opacity = 0.1, normalized = True,\n",
    "            scales = {'sample': x_sc, 'count': y_sc},\n",
    "                  bins = 128)\n",
    "fig = bqplot.Figure(marks = [hist, hist2], axes = [x_ax, y_ax])\n",
    "\n",
    "# for 2 & 3\n",
    "#display(ipywidgets.VBox([fig, islider]))\n",
    "ipywidgets.VBox([fig, islider])"
   ]
  },
  {
   "cell_type": "markdown",
   "metadata": {},
   "source": [
    "## Extras: Wealth of Nations plot\n",
    "\n",
    "See full github repo for all of this data/libraries needed!\n",
    "\n",
    "* originially from the TedTalk: https://www.ted.com/talks/hans_rosling_shows_the_best_stats_you_ve_ever_seen\n",
    "* found on Rosling's website: https://www.ted.com/talks/hans_rosling_shows_the_best_stats_you_ve_ever_seen\n",
    "* We're going to make a tool similar to GapMinders:https://www.gapminder.org/world/\n",
    "* Much of this is, in more detail, in the PyGothum-2017 github: https://github.com/dmadeka/PyGotham-2017 \n",
    "* This will talk to javascript on the backend to mimic the output of another plotting package d3.js, but we don't have to learn about d3.js (just now) and can instead rely on our current Python knowledge"
   ]
  },
  {
   "cell_type": "code",
   "execution_count": 86,
   "metadata": {},
   "outputs": [],
   "source": [
    "# import pandas if we have not\n",
    "import pandas as pd\n",
    "\n",
    "# lets start off our plot at the initial year of 1800\n",
    "initial_year = 1800"
   ]
  },
  {
   "cell_type": "code",
   "execution_count": 91,
   "metadata": {},
   "outputs": [
    {
     "data": {
      "text/html": [
       "<div>\n",
       "<style scoped>\n",
       "    .dataframe tbody tr th:only-of-type {\n",
       "        vertical-align: middle;\n",
       "    }\n",
       "\n",
       "    .dataframe tbody tr th {\n",
       "        vertical-align: top;\n",
       "    }\n",
       "\n",
       "    .dataframe thead th {\n",
       "        text-align: right;\n",
       "    }\n",
       "</style>\n",
       "<table border=\"1\" class=\"dataframe\">\n",
       "  <thead>\n",
       "    <tr style=\"text-align: right;\">\n",
       "      <th></th>\n",
       "      <th>name</th>\n",
       "      <th>region</th>\n",
       "      <th>income</th>\n",
       "      <th>population</th>\n",
       "      <th>lifeExpectancy</th>\n",
       "    </tr>\n",
       "  </thead>\n",
       "  <tbody>\n",
       "    <tr>\n",
       "      <th>0</th>\n",
       "      <td>Angola</td>\n",
       "      <td>Sub-Saharan Africa</td>\n",
       "      <td>[359.93, 359.93, 359.93, 359.93, 359.93, 359.9...</td>\n",
       "      <td>[1567028.0, 1567028.0, 1567028.0, 1567028.0, 1...</td>\n",
       "      <td>[26.98, 26.98, 26.98, 26.98, 26.98, 26.98, 26....</td>\n",
       "    </tr>\n",
       "    <tr>\n",
       "      <th>1</th>\n",
       "      <td>Benin</td>\n",
       "      <td>Sub-Saharan Africa</td>\n",
       "      <td>[553.72, 553.72, 553.72, 553.72, 553.72, 553.7...</td>\n",
       "      <td>[636559.0, 636559.0, 636559.0, 636559.0, 63655...</td>\n",
       "      <td>[31.0, 31.0, 31.0, 31.0, 31.0, 31.0, 31.0, 31....</td>\n",
       "    </tr>\n",
       "    <tr>\n",
       "      <th>2</th>\n",
       "      <td>Botswana</td>\n",
       "      <td>Sub-Saharan Africa</td>\n",
       "      <td>[407.36, 407.36, 407.36, 407.36, 407.36, 407.3...</td>\n",
       "      <td>[121000.0, 121000.0, 121000.0, 121000.0, 12100...</td>\n",
       "      <td>[33.6, 33.6, 33.6, 33.6, 33.6, 33.6, 33.6, 33....</td>\n",
       "    </tr>\n",
       "    <tr>\n",
       "      <th>3</th>\n",
       "      <td>Burkina Faso</td>\n",
       "      <td>Sub-Saharan Africa</td>\n",
       "      <td>[454.33, 454.33, 454.33, 454.33, 454.33, 454.3...</td>\n",
       "      <td>[1665421.0, 1665421.0, 1665421.0, 1665421.0, 1...</td>\n",
       "      <td>[29.2, 29.2, 29.2, 29.2, 29.2, 29.2, 29.2, 29....</td>\n",
       "    </tr>\n",
       "    <tr>\n",
       "      <th>4</th>\n",
       "      <td>Burundi</td>\n",
       "      <td>Sub-Saharan Africa</td>\n",
       "      <td>[447.59, 447.59, 447.59, 447.59, 447.59, 447.5...</td>\n",
       "      <td>[899097.0, 899097.0, 899097.0, 899097.0, 89909...</td>\n",
       "      <td>[31.5, 31.5, 31.5, 31.5, 31.5, 31.5, 31.5, 31....</td>\n",
       "    </tr>\n",
       "    <tr>\n",
       "      <th>...</th>\n",
       "      <td>...</td>\n",
       "      <td>...</td>\n",
       "      <td>...</td>\n",
       "      <td>...</td>\n",
       "      <td>...</td>\n",
       "    </tr>\n",
       "    <tr>\n",
       "      <th>174</th>\n",
       "      <td>Thailand</td>\n",
       "      <td>East Asia &amp; Pacific</td>\n",
       "      <td>[496.98, 496.98, 496.98, 496.98, 496.98, 496.9...</td>\n",
       "      <td>[4665000.0, 4665000.0, 4665000.0, 4665000.0, 4...</td>\n",
       "      <td>[30.4, 30.4, 30.4, 30.4, 30.4, 30.4, 30.4, 30....</td>\n",
       "    </tr>\n",
       "    <tr>\n",
       "      <th>175</th>\n",
       "      <td>Timor-Leste</td>\n",
       "      <td>East Asia &amp; Pacific</td>\n",
       "      <td>[514.12, 514.3505, 514.581, 514.8115, 515.042,...</td>\n",
       "      <td>[137262.0, 137262.0, 137262.0, 137262.0, 13726...</td>\n",
       "      <td>[28.97, 28.97, 28.97, 28.97, 28.97, 28.97, 28....</td>\n",
       "    </tr>\n",
       "    <tr>\n",
       "      <th>177</th>\n",
       "      <td>Tonga</td>\n",
       "      <td>East Asia &amp; Pacific</td>\n",
       "      <td>[667.71, 667.71, 667.71, 667.71, 667.71, 667.7...</td>\n",
       "      <td>[18658.0, 18654.325581395347, 18650.6511627907...</td>\n",
       "      <td>[57.91, 57.91, 57.91, 57.91, 57.91, 57.91, 57....</td>\n",
       "    </tr>\n",
       "    <tr>\n",
       "      <th>178</th>\n",
       "      <td>Vietnam</td>\n",
       "      <td>East Asia &amp; Pacific</td>\n",
       "      <td>[459.71, 459.71, 459.71, 459.71, 459.71, 459.7...</td>\n",
       "      <td>[6551000.0, 6551000.0, 6551000.0, 6551000.0, 6...</td>\n",
       "      <td>[32.0, 32.0, 32.0, 32.0, 32.0, 32.0, 32.0, 32....</td>\n",
       "    </tr>\n",
       "    <tr>\n",
       "      <th>179</th>\n",
       "      <td>Vanuatu</td>\n",
       "      <td>East Asia &amp; Pacific</td>\n",
       "      <td>[829.58, 829.58, 829.58, 829.58, 829.58, 829.5...</td>\n",
       "      <td>[27791.0, 27791.0, 27791.0, 27791.0, 27791.0, ...</td>\n",
       "      <td>[40.8, 40.8, 40.8, 40.8, 40.8, 40.8, 40.8, 40....</td>\n",
       "    </tr>\n",
       "  </tbody>\n",
       "</table>\n",
       "<p>178 rows × 5 columns</p>\n",
       "</div>"
      ],
      "text/plain": [
       "             name               region  \\\n",
       "0          Angola   Sub-Saharan Africa   \n",
       "1           Benin   Sub-Saharan Africa   \n",
       "2        Botswana   Sub-Saharan Africa   \n",
       "3    Burkina Faso   Sub-Saharan Africa   \n",
       "4         Burundi   Sub-Saharan Africa   \n",
       "..            ...                  ...   \n",
       "174      Thailand  East Asia & Pacific   \n",
       "175   Timor-Leste  East Asia & Pacific   \n",
       "177         Tonga  East Asia & Pacific   \n",
       "178       Vietnam  East Asia & Pacific   \n",
       "179       Vanuatu  East Asia & Pacific   \n",
       "\n",
       "                                                income  \\\n",
       "0    [359.93, 359.93, 359.93, 359.93, 359.93, 359.9...   \n",
       "1    [553.72, 553.72, 553.72, 553.72, 553.72, 553.7...   \n",
       "2    [407.36, 407.36, 407.36, 407.36, 407.36, 407.3...   \n",
       "3    [454.33, 454.33, 454.33, 454.33, 454.33, 454.3...   \n",
       "4    [447.59, 447.59, 447.59, 447.59, 447.59, 447.5...   \n",
       "..                                                 ...   \n",
       "174  [496.98, 496.98, 496.98, 496.98, 496.98, 496.9...   \n",
       "175  [514.12, 514.3505, 514.581, 514.8115, 515.042,...   \n",
       "177  [667.71, 667.71, 667.71, 667.71, 667.71, 667.7...   \n",
       "178  [459.71, 459.71, 459.71, 459.71, 459.71, 459.7...   \n",
       "179  [829.58, 829.58, 829.58, 829.58, 829.58, 829.5...   \n",
       "\n",
       "                                            population  \\\n",
       "0    [1567028.0, 1567028.0, 1567028.0, 1567028.0, 1...   \n",
       "1    [636559.0, 636559.0, 636559.0, 636559.0, 63655...   \n",
       "2    [121000.0, 121000.0, 121000.0, 121000.0, 12100...   \n",
       "3    [1665421.0, 1665421.0, 1665421.0, 1665421.0, 1...   \n",
       "4    [899097.0, 899097.0, 899097.0, 899097.0, 89909...   \n",
       "..                                                 ...   \n",
       "174  [4665000.0, 4665000.0, 4665000.0, 4665000.0, 4...   \n",
       "175  [137262.0, 137262.0, 137262.0, 137262.0, 13726...   \n",
       "177  [18658.0, 18654.325581395347, 18650.6511627907...   \n",
       "178  [6551000.0, 6551000.0, 6551000.0, 6551000.0, 6...   \n",
       "179  [27791.0, 27791.0, 27791.0, 27791.0, 27791.0, ...   \n",
       "\n",
       "                                        lifeExpectancy  \n",
       "0    [26.98, 26.98, 26.98, 26.98, 26.98, 26.98, 26....  \n",
       "1    [31.0, 31.0, 31.0, 31.0, 31.0, 31.0, 31.0, 31....  \n",
       "2    [33.6, 33.6, 33.6, 33.6, 33.6, 33.6, 33.6, 33....  \n",
       "3    [29.2, 29.2, 29.2, 29.2, 29.2, 29.2, 29.2, 29....  \n",
       "4    [31.5, 31.5, 31.5, 31.5, 31.5, 31.5, 31.5, 31....  \n",
       "..                                                 ...  \n",
       "174  [30.4, 30.4, 30.4, 30.4, 30.4, 30.4, 30.4, 30....  \n",
       "175  [28.97, 28.97, 28.97, 28.97, 28.97, 28.97, 28....  \n",
       "177  [57.91, 57.91, 57.91, 57.91, 57.91, 57.91, 57....  \n",
       "178  [32.0, 32.0, 32.0, 32.0, 32.0, 32.0, 32.0, 32....  \n",
       "179  [40.8, 40.8, 40.8, 40.8, 40.8, 40.8, 40.8, 40....  \n",
       "\n",
       "[178 rows x 5 columns]"
      ]
     },
     "execution_count": 91,
     "metadata": {},
     "output_type": "execute_result"
    }
   ],
   "source": [
    "# we'll read in our datafile and apply \n",
    "# some pre-written cleaning routines \n",
    "# get out the data we want for our plotting\n",
    "# put this file in the same directory as the notebook, or link it in your path:\n",
    "from sys import path\n",
    "path.append('./library') # this is the subdirectory where wealth_of_nations.py is\n",
    "from wealth_of_nations import process_data, get_min_max, get_data\n",
    "\n",
    "# grab data\n",
    "data = process_data('./library/nations.json')\n",
    "\n",
    "data"
   ]
  },
  {
   "cell_type": "code",
   "execution_count": 92,
   "metadata": {},
   "outputs": [],
   "source": [
    "# grab min & max values of our variables of interest\n",
    "income_min, income_max, life_exp_min, life_exp_max, pop_min, pop_max = get_min_max(data)"
   ]
  },
  {
   "cell_type": "code",
   "execution_count": 93,
   "metadata": {},
   "outputs": [],
   "source": [
    "# lets allow for a mouse-over interaction\n",
    "# for silly:\n",
    "import bqplot\n",
    "tt = bqplot.Tooltip(fields=['name', 'x', 'y'], \n",
    "                    labels=['Country Name', \n",
    "                            'Income per Capita', 'Life Expectancy'])\n",
    "#bqplot.Tooltip?"
   ]
  },
  {
   "cell_type": "code",
   "execution_count": 94,
   "metadata": {},
   "outputs": [],
   "source": [
    "# we will label what year is being plotted, just like in the Gabminder plot\n",
    "year_label = bqplot.Label(x=[0.75], y=[0.10], \n",
    "                   font_size=52, font_weight='bolder', \n",
    "                   colors=['orange'],\n",
    "                   text=[str(initial_year)], enable_move=True)"
   ]
  },
  {
   "cell_type": "code",
   "execution_count": 95,
   "metadata": {},
   "outputs": [],
   "source": [
    "# we'll define our scales like before\n",
    "# here we scale our x & y axis to the scales of the min and max of our data\n",
    "x_sc = bqplot.LogScale(min=income_min, max=income_max)\n",
    "y_sc = bqplot.LinearScale(min=life_exp_min, max=life_exp_max)\n",
    "\n",
    "# this is just something to color-code each circle by the region it corresponds to\n",
    "#  (for example, asia, south america, africa, etc)\n",
    "# the colors call is just mapping each catagorical variable to a color\n",
    "c_sc = bqplot.OrdinalColorScale(domain=data['region'].unique().tolist(), \n",
    "                                colors=bqplot.CATEGORY10[:6])\n",
    "\n",
    "# finally, we want the size of each of our dots to correspond to the population of \n",
    "# each country\n",
    "#size_sc = bqplot.LinearScale(min=pop_min, max=pop_max)#, mid_range=0.1)\n",
    "size_sc = bqplot.LinearScale(max=1326856173.0, min=2128.0)\n",
    "#bqplot.LinearScale?"
   ]
  },
  {
   "cell_type": "code",
   "execution_count": 96,
   "metadata": {},
   "outputs": [],
   "source": [
    "# create and label our x & y axis\n",
    "ax_y = bqplot.Axis(label='Life Expectancy', scale=y_sc, \n",
    "                   orientation='vertical', side='left', \n",
    "                   grid_lines='solid')\n",
    "ax_x = bqplot.Axis(label='Income per Capita', scale=x_sc, \n",
    "                   grid_lines='solid')"
   ]
  },
  {
   "cell_type": "code",
   "execution_count": 97,
   "metadata": {},
   "outputs": [],
   "source": [
    "# now we'll use another little function from our library above to grab\n",
    "# data for our initial setup (year = 1800)\n",
    "# Start with the first year's data\n",
    "cap_income, life_exp, pop = get_data(data,initial_year,initial_year)"
   ]
  },
  {
   "cell_type": "code",
   "execution_count": 98,
   "metadata": {},
   "outputs": [],
   "source": [
    "# now lets make our scatter plot!\n",
    "wealth_scat = bqplot.Scatter(x=cap_income, y=life_exp, \n",
    "                             color=data['region'], size=pop,\n",
    "                      names=data['name'], display_names=False,\n",
    "                      scales={'x': x_sc, 'y': y_sc, 'color': c_sc, \n",
    "                              'size': size_sc},\n",
    "                      default_size=4112, tooltip=tt, \n",
    "                             animate=True, stroke='Black',\n",
    "                      unhovered_style={'opacity': 0.5})\n",
    "# much of these calls are things we've seen before, others will allow fun things \n",
    "#  like animation and also the ability to click on our plot and interact with it"
   ]
  },
  {
   "cell_type": "code",
   "execution_count": 99,
   "metadata": {},
   "outputs": [],
   "source": [
    "# for our initial, 1800 view, we'll just allow the first \"line\" of the evolution of the \n",
    "# each nation's track to be displayed... this is essentially a place holder (visible = false)\n",
    "nation_line = bqplot.Lines(x=data['income'][0], \n",
    "                           y=data['lifeExpectancy'][0], \n",
    "                           colors=['Gray'],\n",
    "                       scales={'x': x_sc, 'y': y_sc}, visible=False)"
   ]
  },
  {
   "cell_type": "code",
   "execution_count": 100,
   "metadata": {},
   "outputs": [],
   "source": [
    "# milliseconds of time between changes we make\n",
    "time_interval = 10"
   ]
  },
  {
   "cell_type": "code",
   "execution_count": 101,
   "metadata": {},
   "outputs": [],
   "source": [
    "# create the figure & \n",
    "fig = bqplot.Figure(marks=[wealth_scat, year_label, nation_line], \n",
    "                    axes=[ax_x, ax_y],\n",
    "             title='Health and Wealth of Nations', \n",
    "                    animation_duration=time_interval)\n",
    "\n",
    "# lets control the size in pixels too\n",
    "fig.layout.min_width = '960px'\n",
    "fig.layout.min_height = '640px'"
   ]
  },
  {
   "cell_type": "code",
   "execution_count": 102,
   "metadata": {},
   "outputs": [],
   "source": [
    "# we'll use our friend the int slider to slide through years\n",
    "# for silly:\n",
    "import ipywidgets\n",
    "year_slider = ipywidgets.IntSlider(min=1800, max=2008, step=1, description='Year', value=initial_year)"
   ]
  },
  {
   "cell_type": "code",
   "execution_count": 103,
   "metadata": {},
   "outputs": [],
   "source": [
    "# make sure we define what happens when we change the year on our slider\n",
    "def year_changed(change):\n",
    "    wealth_scat.x, wealth_scat.y, wealth_scat.size = get_data(data,year_slider.value,initial_year)\n",
    "    #wealth_scat.size+=1000\n",
    "    year_label.text = [str(year_slider.value)]\n",
    "\n",
    "year_slider.observe(year_changed, 'value')"
   ]
  },
  {
   "cell_type": "code",
   "execution_count": 104,
   "metadata": {},
   "outputs": [],
   "source": [
    "# now we'll say what happens when we hover over an object\n",
    "# we'll use \"change\" again to make it such that if a \n",
    "# user hovers over a country, the countries \"life line\" \n",
    "#  is visible\n",
    "def hover_changed(change):\n",
    "    if change.new is not None:\n",
    "        nation_line.x = data['income'][change.new + 1]\n",
    "        nation_line.y = data['lifeExpectancy'][change.new + 1]\n",
    "        nation_line.visible = True\n",
    "    else:\n",
    "        nation_line.visible = False\n",
    "        \n",
    "wealth_scat.observe(hover_changed, 'hovered_point')"
   ]
  },
  {
   "cell_type": "code",
   "execution_count": 105,
   "metadata": {},
   "outputs": [
    {
     "data": {
      "text/plain": [
       "Link(source=(Play(value=1800, interval=10, max=2008, min=1800), 'value'), target=(IntSlider(value=1800, descri…"
      ]
     },
     "metadata": {},
     "output_type": "display_data"
    }
   ],
   "source": [
    "# finally, lets add a little play button so we can animate\n",
    "#  what happens in time, just like on the d3.js plot\n",
    "play_button = ipywidgets.Play(min=1800, max=2008, interval=time_interval)\n",
    "# note, we use \"jslink\" because the \"backend\" here is javascript\n",
    "#  bqplot is just interacting with javascript\n",
    "ipywidgets.jslink((play_button, 'value'), (year_slider, 'value'))"
   ]
  },
  {
   "cell_type": "code",
   "execution_count": 106,
   "metadata": {},
   "outputs": [
    {
     "data": {
      "application/vnd.jupyter.widget-view+json": {
       "model_id": "45269695dcc94790bed4eb5095feec4f",
       "version_major": 2,
       "version_minor": 0
      },
      "text/plain": [
       "VBox(children=(HBox(children=(Play(value=1800, interval=10, max=2008, min=1800), IntSlider(value=1800, descrip…"
      ]
     },
     "metadata": {},
     "output_type": "display_data"
    }
   ],
   "source": [
    "# finally, lets put it all together!!\n",
    "\n",
    "ipywidgets.VBox([ipywidgets.HBox([play_button, year_slider]), fig])"
   ]
  },
  {
   "cell_type": "code",
   "execution_count": null,
   "metadata": {},
   "outputs": [],
   "source": []
  },
  {
   "cell_type": "code",
   "execution_count": null,
   "metadata": {},
   "outputs": [],
   "source": []
  },
  {
   "cell_type": "code",
   "execution_count": null,
   "metadata": {},
   "outputs": [],
   "source": []
  },
  {
   "cell_type": "code",
   "execution_count": null,
   "metadata": {},
   "outputs": [],
   "source": []
  },
  {
   "cell_type": "code",
   "execution_count": null,
   "metadata": {},
   "outputs": [],
   "source": []
  },
  {
   "cell_type": "code",
   "execution_count": null,
   "metadata": {},
   "outputs": [],
   "source": []
  }
 ],
 "metadata": {
  "kernelspec": {
   "display_name": "Python 3 (ipykernel)",
   "language": "python",
   "name": "python3"
  },
  "language_info": {
   "codemirror_mode": {
    "name": "ipython",
    "version": 3
   },
   "file_extension": ".py",
   "mimetype": "text/x-python",
   "name": "python",
   "nbconvert_exporter": "python",
   "pygments_lexer": "ipython3",
   "version": "3.7.12"
  }
 },
 "nbformat": 4,
 "nbformat_minor": 2
}
