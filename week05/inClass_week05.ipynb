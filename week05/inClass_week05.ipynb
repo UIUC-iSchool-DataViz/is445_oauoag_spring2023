{
 "cells": [
  {
   "cell_type": "markdown",
   "id": "respective-store",
   "metadata": {},
   "source": [
    "# In Class Notebook, Week 05"
   ]
  },
  {
   "cell_type": "markdown",
   "id": "2a597611",
   "metadata": {},
   "source": [
    "You can click on the GitHub URL of this notebook to access the file in near-real time: https://github.com/UIUC-iSchool-DataViz/is445_oauoag_spring2023/blob/master/week05/inClass_week05.ipynb \n",
    "\n",
    "Or you can copy-paste into the nbviewer interface for a plain-text rendering:\n",
    "\n",
    "https://kokes.github.io/nbviewer.js/viewer.html"
   ]
  },
  {
   "cell_type": "code",
   "execution_count": 1,
   "id": "67683ea3",
   "metadata": {},
   "outputs": [],
   "source": [
    "import numpy as np\n",
    "import ipywidgets \n",
    "import bqplot"
   ]
  },
  {
   "cell_type": "code",
   "execution_count": 5,
   "id": "3e106eb3",
   "metadata": {},
   "outputs": [],
   "source": [
    "# 1. Data\n",
    "x = np.arange(100) # integers 0-99\n",
    "y = np.random.random(100) # random numbers centered around 0.5"
   ]
  },
  {
   "cell_type": "code",
   "execution_count": 7,
   "id": "8c80af2a",
   "metadata": {},
   "outputs": [],
   "source": [
    "# 2. Scales\n",
    "bqplot.LinearScale?"
   ]
  },
  {
   "cell_type": "code",
   "execution_count": 8,
   "id": "fa46b616",
   "metadata": {},
   "outputs": [],
   "source": [
    "x_sc = bqplot.LinearScale()\n",
    "y_sc = bqplot.LinearScale()"
   ]
  },
  {
   "cell_type": "code",
   "execution_count": 9,
   "id": "7171cd46",
   "metadata": {},
   "outputs": [],
   "source": [
    "# 3. Marks\n",
    "bqplot.Lines?"
   ]
  },
  {
   "cell_type": "code",
   "execution_count": 10,
   "id": "d7b553a4",
   "metadata": {},
   "outputs": [],
   "source": [
    "line = bqplot.Lines(x=x, y=y,\n",
    "                   scales={'x':x_sc, 'y':y_sc})"
   ]
  },
  {
   "cell_type": "code",
   "execution_count": 12,
   "id": "d1eccd44",
   "metadata": {},
   "outputs": [],
   "source": [
    "# 4. Interactivity -- not yet!"
   ]
  },
  {
   "cell_type": "code",
   "execution_count": 16,
   "id": "090f8f07",
   "metadata": {},
   "outputs": [],
   "source": [
    "bqplot.Axis?"
   ]
  },
  {
   "cell_type": "code",
   "execution_count": 17,
   "id": "0a2b2999",
   "metadata": {},
   "outputs": [],
   "source": [
    "# 5. Axes (don't forget these like I did!)\n",
    "ax_x = bqplot.Axis(scale=x_sc, label='X Value')\n",
    "ax_y = bqplot.Axis(scale=y_sc, label='Y Value', orientation='vertical')"
   ]
  },
  {
   "cell_type": "code",
   "execution_count": 13,
   "id": "43cdbe21",
   "metadata": {},
   "outputs": [],
   "source": [
    "bqplot.Figure?"
   ]
  },
  {
   "cell_type": "code",
   "execution_count": 18,
   "id": "90c4f311",
   "metadata": {},
   "outputs": [
    {
     "data": {
      "application/vnd.jupyter.widget-view+json": {
       "model_id": "014c3400e3af4bfc90e6169aee185548",
       "version_major": 2,
       "version_minor": 0
      },
      "text/plain": [
       "Figure(axes=[Axis(label='X Value', scale=LinearScale(), side='bottom'), Axis(label='Y Value', orientation='ver…"
      ]
     },
     "metadata": {},
     "output_type": "display_data"
    }
   ],
   "source": [
    "fig = bqplot.Figure(marks=[line], axes = [ax_x, ax_y])\n",
    "fig"
   ]
  },
  {
   "cell_type": "code",
   "execution_count": 19,
   "id": "30a07e1b",
   "metadata": {},
   "outputs": [],
   "source": [
    "bqplot.interacts?"
   ]
  },
  {
   "cell_type": "code",
   "execution_count": 20,
   "id": "7a8e7610",
   "metadata": {},
   "outputs": [],
   "source": [
    "bqplot.interacts.PanZoom?"
   ]
  },
  {
   "cell_type": "code",
   "execution_count": 21,
   "id": "935e3681",
   "metadata": {},
   "outputs": [],
   "source": [
    "pz = bqplot.interacts.PanZoom(scales={'x':[x_sc], 'y':[y_sc]})"
   ]
  },
  {
   "cell_type": "code",
   "execution_count": 22,
   "id": "87c43c08",
   "metadata": {},
   "outputs": [
    {
     "data": {
      "application/vnd.jupyter.widget-view+json": {
       "model_id": "04a982c54667467fbea2aa9d1f9f4fa2",
       "version_major": 2,
       "version_minor": 0
      },
      "text/plain": [
       "Figure(axes=[Axis(label='X Value', scale=LinearScale(), side='bottom'), Axis(label='Y Value', orientation='ver…"
      ]
     },
     "metadata": {},
     "output_type": "display_data"
    }
   ],
   "source": [
    "fig = bqplot.Figure(marks=[line], axes=[ax_x, ax_y], interaction=pz)\n",
    "fig"
   ]
  },
  {
   "cell_type": "code",
   "execution_count": 23,
   "id": "40041eff",
   "metadata": {},
   "outputs": [],
   "source": [
    "# random scatter plot\n",
    "\n",
    "# 1. Data\n",
    "x = np.random.random(100)\n",
    "y = np.random.random(100)"
   ]
  },
  {
   "cell_type": "code",
   "execution_count": 26,
   "id": "cb4640f7",
   "metadata": {},
   "outputs": [],
   "source": [
    "# 2. scales\n",
    "x_sc = bqplot.LinearScale()\n",
    "y_sc = bqplot.LinearScale()\n",
    "\n",
    "# 3. axis!\n",
    "x_ax = bqplot.Axis(scale = x_sc, label='X')\n",
    "y_ax = bqplot.Axis(scale= y_sc, label='Y', orientation='vertical')"
   ]
  },
  {
   "cell_type": "code",
   "execution_count": 27,
   "id": "0349c20c",
   "metadata": {},
   "outputs": [],
   "source": [
    "bqplot.Scatter?"
   ]
  },
  {
   "cell_type": "code",
   "execution_count": 28,
   "id": "f2dd48af",
   "metadata": {},
   "outputs": [],
   "source": [
    "# 4. mark = scatter\n",
    "scatters = bqplot.Scatter(x=x, y=y,\n",
    "                         scales = {'x':x_sc, 'y':y_sc})"
   ]
  },
  {
   "cell_type": "code",
   "execution_count": 29,
   "id": "e56ca0bb",
   "metadata": {},
   "outputs": [],
   "source": [
    "bqplot.interacts.FastIntervalSelector?"
   ]
  },
  {
   "cell_type": "code",
   "execution_count": 30,
   "id": "b6673a25",
   "metadata": {},
   "outputs": [],
   "source": [
    "# 5. interactions\n",
    "selector = bqplot.interacts.FastIntervalSelector(scale=x_sc, marks=[scatters])"
   ]
  },
  {
   "cell_type": "code",
   "execution_count": 31,
   "id": "449aa3e5",
   "metadata": {},
   "outputs": [
    {
     "data": {
      "application/vnd.jupyter.widget-view+json": {
       "model_id": "3a12acfed42e4a0ab294094fc259fd67",
       "version_major": 2,
       "version_minor": 0
      },
      "text/plain": [
       "Figure(axes=[Axis(label='X', scale=LinearScale(), side='bottom'), Axis(label='Y', orientation='vertical', scal…"
      ]
     },
     "metadata": {},
     "output_type": "display_data"
    }
   ],
   "source": [
    "fig = bqplot.Figure(marks=[scatters], axes=[x_ax,y_ax], interaction=selector)\n",
    "fig"
   ]
  },
  {
   "cell_type": "code",
   "execution_count": null,
   "id": "f45aeb4d",
   "metadata": {},
   "outputs": [],
   "source": []
  }
 ],
 "metadata": {
  "kernelspec": {
   "display_name": "Python 3 (ipykernel)",
   "language": "python",
   "name": "python3"
  },
  "language_info": {
   "codemirror_mode": {
    "name": "ipython",
    "version": 3
   },
   "file_extension": ".py",
   "mimetype": "text/x-python",
   "name": "python",
   "nbconvert_exporter": "python",
   "pygments_lexer": "ipython3",
   "version": "3.7.12"
  }
 },
 "nbformat": 4,
 "nbformat_minor": 5
}
