{
 "cells": [
  {
   "cell_type": "markdown",
   "id": "respective-store",
   "metadata": {},
   "source": [
    "# In Class Notebook, Week 05"
   ]
  },
  {
   "cell_type": "markdown",
   "id": "2a597611",
   "metadata": {},
   "source": [
    "You can click on the GitHub URL of this notebook to access the file in near-real time: https://github.com/UIUC-iSchool-DataViz/is445_oauoag_spring2023/blob/master/week05/inClass_week05.ipynb \n",
    "\n",
    "Or you can copy-paste into the nbviewer interface for a plain-text rendering:\n",
    "\n",
    "https://kokes.github.io/nbviewer.js/viewer.html"
   ]
  },
  {
   "cell_type": "code",
   "execution_count": 1,
   "id": "1f050fcc",
   "metadata": {},
   "outputs": [],
   "source": [
    "import numpy as np\n",
    "import ipywidgets \n",
    "import bqplot"
   ]
  },
  {
   "cell_type": "code",
   "execution_count": 5,
   "id": "4c7a8ae9",
   "metadata": {},
   "outputs": [],
   "source": [
    "# 1. Data\n",
    "x = np.arange(100) # integers 0-99\n",
    "y = np.random.random(100) # random numbers centered around 0.5"
   ]
  },
  {
   "cell_type": "code",
   "execution_count": 7,
   "id": "33bb916d",
   "metadata": {},
   "outputs": [],
   "source": [
    "# 2. Scales\n",
    "bqplot.LinearScale?"
   ]
  },
  {
   "cell_type": "code",
   "execution_count": 8,
   "id": "9795b05c",
   "metadata": {},
   "outputs": [],
   "source": [
    "x_sc = bqplot.LinearScale()\n",
    "y_sc = bqplot.LinearScale()"
   ]
  },
  {
   "cell_type": "code",
   "execution_count": 9,
   "id": "1b24ce84",
   "metadata": {},
   "outputs": [],
   "source": [
    "# 3. Marks\n",
    "bqplot.Lines?"
   ]
  },
  {
   "cell_type": "code",
   "execution_count": 10,
   "id": "98d780fc",
   "metadata": {},
   "outputs": [],
   "source": [
    "line = bqplot.Lines(x=x, y=y,\n",
    "                   scales={'x':x_sc, 'y':y_sc})"
   ]
  },
  {
   "cell_type": "code",
   "execution_count": 12,
   "id": "44fee1d5",
   "metadata": {},
   "outputs": [],
   "source": [
    "# 4. Interactivity -- not yet!"
   ]
  },
  {
   "cell_type": "code",
   "execution_count": 16,
   "id": "e45626df",
   "metadata": {},
   "outputs": [],
   "source": [
    "bqplot.Axis?"
   ]
  },
  {
   "cell_type": "code",
   "execution_count": 17,
   "id": "4baea02f",
   "metadata": {},
   "outputs": [],
   "source": [
    "# 5. Axes (don't forget these like I did!)\n",
    "ax_x = bqplot.Axis(scale=x_sc, label='X Value')\n",
    "ax_y = bqplot.Axis(scale=y_sc, label='Y Value', orientation='vertical')"
   ]
  },
  {
   "cell_type": "code",
   "execution_count": 13,
   "id": "3c4230d0",
   "metadata": {},
   "outputs": [],
   "source": [
    "bqplot.Figure?"
   ]
  },
  {
   "cell_type": "code",
   "execution_count": 18,
   "id": "e587b804",
   "metadata": {},
   "outputs": [
    {
     "data": {
      "application/vnd.jupyter.widget-view+json": {
       "model_id": "014c3400e3af4bfc90e6169aee185548",
       "version_major": 2,
       "version_minor": 0
      },
      "text/plain": [
       "Figure(axes=[Axis(label='X Value', scale=LinearScale(), side='bottom'), Axis(label='Y Value', orientation='ver…"
      ]
     },
     "metadata": {},
     "output_type": "display_data"
    }
   ],
   "source": [
    "fig = bqplot.Figure(marks=[line], axes = [ax_x, ax_y])\n",
    "fig"
   ]
  },
  {
   "cell_type": "code",
   "execution_count": 19,
   "id": "b074ad3f",
   "metadata": {},
   "outputs": [],
   "source": [
    "bqplot.interacts?"
   ]
  },
  {
   "cell_type": "code",
   "execution_count": 20,
   "id": "348b9c63",
   "metadata": {},
   "outputs": [],
   "source": [
    "bqplot.interacts.PanZoom?"
   ]
  },
  {
   "cell_type": "code",
   "execution_count": 21,
   "id": "7f038aed",
   "metadata": {},
   "outputs": [],
   "source": [
    "pz = bqplot.interacts.PanZoom(scales={'x':[x_sc], 'y':[y_sc]})"
   ]
  },
  {
   "cell_type": "code",
   "execution_count": 22,
   "id": "32bb16f7",
   "metadata": {},
   "outputs": [
    {
     "data": {
      "application/vnd.jupyter.widget-view+json": {
       "model_id": "04a982c54667467fbea2aa9d1f9f4fa2",
       "version_major": 2,
       "version_minor": 0
      },
      "text/plain": [
       "Figure(axes=[Axis(label='X Value', scale=LinearScale(), side='bottom'), Axis(label='Y Value', orientation='ver…"
      ]
     },
     "metadata": {},
     "output_type": "display_data"
    }
   ],
   "source": [
    "fig = bqplot.Figure(marks=[line], axes=[ax_x, ax_y], interaction=pz)\n",
    "fig"
   ]
  },
  {
   "cell_type": "code",
   "execution_count": 23,
   "id": "fe6d97bd",
   "metadata": {},
   "outputs": [],
   "source": [
    "# random scatter plot\n",
    "\n",
    "# 1. Data\n",
    "x = np.random.random(100)\n",
    "y = np.random.random(100)"
   ]
  },
  {
   "cell_type": "code",
   "execution_count": 26,
   "id": "f923e6f9",
   "metadata": {},
   "outputs": [],
   "source": [
    "# 2. scales\n",
    "x_sc = bqplot.LinearScale()\n",
    "y_sc = bqplot.LinearScale()\n",
    "\n",
    "# 3. axis!\n",
    "x_ax = bqplot.Axis(scale = x_sc, label='X')\n",
    "y_ax = bqplot.Axis(scale= y_sc, label='Y', orientation='vertical')"
   ]
  },
  {
   "cell_type": "code",
   "execution_count": 27,
   "id": "5b1c4bcf",
   "metadata": {},
   "outputs": [],
   "source": [
    "bqplot.Scatter?"
   ]
  },
  {
   "cell_type": "code",
   "execution_count": 28,
   "id": "a51588b3",
   "metadata": {},
   "outputs": [],
   "source": [
    "# 4. mark = scatter\n",
    "scatters = bqplot.Scatter(x=x, y=y,\n",
    "                         scales = {'x':x_sc, 'y':y_sc})"
   ]
  },
  {
   "cell_type": "code",
   "execution_count": 29,
   "id": "5969da9e",
   "metadata": {},
   "outputs": [],
   "source": [
    "bqplot.interacts.FastIntervalSelector?"
   ]
  },
  {
   "cell_type": "code",
   "execution_count": 30,
   "id": "a5593124",
   "metadata": {},
   "outputs": [],
   "source": [
    "# 5. interactions\n",
    "selector = bqplot.interacts.FastIntervalSelector(scale=x_sc, marks=[scatters])"
   ]
  },
  {
   "cell_type": "code",
   "execution_count": 31,
   "id": "45719428",
   "metadata": {},
   "outputs": [
    {
     "data": {
      "application/vnd.jupyter.widget-view+json": {
       "model_id": "3a12acfed42e4a0ab294094fc259fd67",
       "version_major": 2,
       "version_minor": 0
      },
      "text/plain": [
       "Figure(axes=[Axis(label='X', scale=LinearScale(), side='bottom'), Axis(label='Y', orientation='vertical', scal…"
      ]
     },
     "metadata": {},
     "output_type": "display_data"
    }
   ],
   "source": [
    "fig = bqplot.Figure(marks=[scatters], axes=[x_ax,y_ax], interaction=selector)\n",
    "fig"
   ]
  },
  {
   "cell_type": "code",
   "execution_count": 33,
   "id": "9d8909b1",
   "metadata": {},
   "outputs": [
    {
     "data": {
      "text/plain": [
       "array([0.04430574, 0.52745323])"
      ]
     },
     "execution_count": 33,
     "metadata": {},
     "output_type": "execute_result"
    }
   ],
   "source": [
    "selector.selected"
   ]
  },
  {
   "cell_type": "code",
   "execution_count": 34,
   "id": "1fbdf675",
   "metadata": {},
   "outputs": [],
   "source": [
    "scatters.selected_style = {'fill':'red', 'stroke':'yellow'}"
   ]
  },
  {
   "cell_type": "markdown",
   "id": "610c5fa9",
   "metadata": {},
   "source": [
    "## Higher dimensions -- 2D data!"
   ]
  },
  {
   "cell_type": "code",
   "execution_count": 35,
   "id": "d7b12685",
   "metadata": {},
   "outputs": [],
   "source": [
    "# 1. data\n",
    "data = np.random.random((10,10))"
   ]
  },
  {
   "cell_type": "code",
   "execution_count": 37,
   "id": "ea9839b0",
   "metadata": {},
   "outputs": [
    {
     "data": {
      "text/plain": [
       "(10, 10)"
      ]
     },
     "execution_count": 37,
     "metadata": {},
     "output_type": "execute_result"
    }
   ],
   "source": [
    "data.shape"
   ]
  },
  {
   "cell_type": "code",
   "execution_count": 38,
   "id": "f539fe2a",
   "metadata": {},
   "outputs": [],
   "source": [
    "bqplot.GridHeatMap?"
   ]
  },
  {
   "cell_type": "code",
   "execution_count": 41,
   "id": "9db1d293",
   "metadata": {},
   "outputs": [],
   "source": [
    "bqplot.ColorScale?"
   ]
  },
  {
   "cell_type": "code",
   "execution_count": 44,
   "id": "d57f749c",
   "metadata": {},
   "outputs": [
    {
     "data": {
      "application/vnd.jupyter.widget-view+json": {
       "model_id": "5941467b6c7b4bb28ca05cd9efc3f9fe",
       "version_major": 2,
       "version_minor": 0
      },
      "text/plain": [
       "Figure(fig_margin={'top': 60, 'bottom': 60, 'left': 60, 'right': 60}, marks=[GridHeatMap(color=array([[0.57196…"
      ]
     },
     "metadata": {},
     "output_type": "display_data"
    }
   ],
   "source": [
    "# 2. scales\n",
    "col_sc = bqplot.ColorScale(scheme='Reds') # <3\n",
    "# x/y\n",
    "\n",
    "# 3. axis\n",
    "\n",
    "# 4. Mark - heatmap\n",
    "heat_map = bqplot.GridHeatMap(color=data, scales={'color':col_sc})\n",
    "\n",
    "# 5. interactions\n",
    "\n",
    "fig = bqplot.Figure(marks=[heat_map])\n",
    "fig"
   ]
  },
  {
   "cell_type": "code",
   "execution_count": 45,
   "id": "8d588d46",
   "metadata": {},
   "outputs": [
    {
     "data": {
      "application/vnd.jupyter.widget-view+json": {
       "model_id": "20ee25cc280348f6bd33061324738ab0",
       "version_major": 2,
       "version_minor": 0
      },
      "text/plain": [
       "Figure(axes=[ColorAxis(orientation='vertical', scale=ColorScale(scheme='Reds'), side='right')], fig_margin={'t…"
      ]
     },
     "metadata": {},
     "output_type": "display_data"
    }
   ],
   "source": [
    "# 2. scales\n",
    "col_sc = bqplot.ColorScale(scheme='Reds') # <3\n",
    "# x/y\n",
    "\n",
    "# 3. axis\n",
    "col_ax = bqplot.ColorAxis(scale=col_sc, orientation='vertical',\n",
    "                         side='right')\n",
    "\n",
    "# 4. Mark - heatmap\n",
    "heat_map = bqplot.GridHeatMap(color=data, scales={'color':col_sc})\n",
    "\n",
    "# 5. interactions\n",
    "\n",
    "fig = bqplot.Figure(marks=[heat_map], axes=[col_ax])\n",
    "fig"
   ]
  },
  {
   "cell_type": "code",
   "execution_count": 46,
   "id": "95af8d9b",
   "metadata": {},
   "outputs": [
    {
     "data": {
      "application/vnd.jupyter.widget-view+json": {
       "model_id": "161672a8a0bf428abf925378d236686a",
       "version_major": 2,
       "version_minor": 0
      },
      "text/plain": [
       "Figure(axes=[ColorAxis(orientation='vertical', scale=ColorScale(scheme='Reds'), side='right'), Axis(scale=Ordi…"
      ]
     },
     "metadata": {},
     "output_type": "display_data"
    }
   ],
   "source": [
    "# 2. scales\n",
    "col_sc = bqplot.ColorScale(scheme='Reds') # <3\n",
    "x_sc = bqplot.OrdinalScale() # ordered bins\n",
    "y_sc = bqplot.OrdinalScale()\n",
    "\n",
    "# 3. axis\n",
    "col_ax = bqplot.ColorAxis(scale=col_sc, orientation='vertical',\n",
    "                         side='right')\n",
    "x_ax = bqplot.Axis(scale=x_sc)\n",
    "y_ax = bqplot.Axis(scale=y_sc, orientation='vertical')\n",
    "\n",
    "# 4. Mark - heatmap\n",
    "heat_map = bqplot.GridHeatMap(color=data, scales={'color':col_sc})\n",
    "\n",
    "# 5. interactions\n",
    "\n",
    "fig = bqplot.Figure(marks=[heat_map], axes=[col_ax, x_ax, y_ax])\n",
    "fig"
   ]
  },
  {
   "cell_type": "code",
   "execution_count": 48,
   "id": "0420591a",
   "metadata": {},
   "outputs": [
    {
     "data": {
      "application/vnd.jupyter.widget-view+json": {
       "model_id": "529c48e339a549df9a4324e9f2993868",
       "version_major": 2,
       "version_minor": 0
      },
      "text/plain": [
       "Figure(axes=[ColorAxis(orientation='vertical', scale=ColorScale(scheme='Reds'), side='right'), Axis(scale=Ordi…"
      ]
     },
     "metadata": {},
     "output_type": "display_data"
    }
   ],
   "source": [
    "# 2. scales\n",
    "col_sc = bqplot.ColorScale(scheme='Reds') # <3\n",
    "x_sc = bqplot.OrdinalScale() # ordered bins\n",
    "y_sc = bqplot.OrdinalScale()\n",
    "\n",
    "# 3. axis\n",
    "col_ax = bqplot.ColorAxis(scale=col_sc, orientation='vertical',\n",
    "                         side='right')\n",
    "x_ax = bqplot.Axis(scale=x_sc)\n",
    "y_ax = bqplot.Axis(scale=y_sc, orientation='vertical')\n",
    "\n",
    "# 4. Mark - heatmap\n",
    "heat_map = bqplot.GridHeatMap(color=data, scales={'color':col_sc,\n",
    "                                                 'row':y_sc,\n",
    "                                                 'column':x_sc},\n",
    "                             interactions={'click':'select'},\n",
    "                             selected_style={'fill':'blue'})\n",
    "\n",
    "# 5. interactions\n",
    "\n",
    "fig = bqplot.Figure(marks=[heat_map], axes=[col_ax, x_ax, y_ax])\n",
    "fig"
   ]
  },
  {
   "cell_type": "code",
   "execution_count": 49,
   "id": "fa912b35",
   "metadata": {},
   "outputs": [
    {
     "data": {
      "text/plain": [
       "['_model_module',\n",
       " '_model_module_version',\n",
       " '_model_name',\n",
       " '_view_count',\n",
       " '_view_module',\n",
       " '_view_module_version',\n",
       " '_view_name',\n",
       " 'anchor_style',\n",
       " 'apply_clip',\n",
       " 'color',\n",
       " 'column',\n",
       " 'column_align',\n",
       " 'display_format',\n",
       " 'display_legend',\n",
       " 'enable_hover',\n",
       " 'font_style',\n",
       " 'interactions',\n",
       " 'labels',\n",
       " 'null_color',\n",
       " 'opacity',\n",
       " 'preserve_domain',\n",
       " 'row',\n",
       " 'row_align',\n",
       " 'scales',\n",
       " 'scales_metadata',\n",
       " 'selected',\n",
       " 'selected_style',\n",
       " 'stroke',\n",
       " 'tooltip',\n",
       " 'tooltip_location',\n",
       " 'tooltip_style',\n",
       " 'unselected_style',\n",
       " 'visible']"
      ]
     },
     "execution_count": 49,
     "metadata": {},
     "output_type": "execute_result"
    }
   ],
   "source": [
    "heat_map.keys"
   ]
  },
  {
   "cell_type": "code",
   "execution_count": 52,
   "id": "ea7de35f",
   "metadata": {},
   "outputs": [
    {
     "data": {
      "text/plain": [
       "array([[1, 9]])"
      ]
     },
     "execution_count": 52,
     "metadata": {},
     "output_type": "execute_result"
    }
   ],
   "source": [
    "heat_map.selected"
   ]
  },
  {
   "cell_type": "code",
   "execution_count": 53,
   "id": "b8366061",
   "metadata": {},
   "outputs": [],
   "source": [
    "def on_selected(change):\n",
    "    print(change)"
   ]
  },
  {
   "cell_type": "code",
   "execution_count": 54,
   "id": "d4c63f14",
   "metadata": {},
   "outputs": [
    {
     "data": {
      "application/vnd.jupyter.widget-view+json": {
       "model_id": "bbe56bea412249c0a31eceadfe3247ae",
       "version_major": 2,
       "version_minor": 0
      },
      "text/plain": [
       "Figure(axes=[ColorAxis(orientation='vertical', scale=ColorScale(scheme='Reds'), side='right'), Axis(scale=Ordi…"
      ]
     },
     "metadata": {},
     "output_type": "display_data"
    },
    {
     "name": "stdout",
     "output_type": "stream",
     "text": [
      "{'name': 'selected', 'old': None, 'new': array([[0, 0]]), 'owner': GridHeatMap(color=array([[0.57196378, 0.57311676, 0.00149513, 0.86523861, 0.90569127,\n",
      "        0.61564876, 0.98602322, 0.6210563 , 0.38605484, 0.53999976],\n",
      "       [0.65609949, 0.71866496, 0.69498689, 0.03453116, 0.66345344,\n",
      "        0.31527374, 0.34837166, 0.38694171, 0.20862062, 0.1700008 ],\n",
      "       [0.69187381, 0.71106791, 0.27198929, 0.78230318, 0.32447487,\n",
      "        0.75507887, 0.07122043, 0.10769643, 0.99347394, 0.46063031],\n",
      "       [0.36568771, 0.39118138, 0.16432005, 0.58701207, 0.29333222,\n",
      "        0.18759281, 0.39123524, 0.79576756, 0.67125323, 0.62060612],\n",
      "       [0.8402376 , 0.28653118, 0.30236414, 0.58837018, 0.117496  ,\n",
      "        0.35637885, 0.81188951, 0.88446284, 0.34081735, 0.94033622],\n",
      "       [0.65726774, 0.69238217, 0.50013654, 0.03158525, 0.59343462,\n",
      "        0.69570894, 0.34021872, 0.28246946, 0.01279622, 0.05190139],\n",
      "       [0.0412112 , 0.89718053, 0.07367713, 0.94208456, 0.3339338 ,\n",
      "        0.98729352, 0.03286571, 0.60868275, 0.1915684 , 0.59543382],\n",
      "       [0.63749157, 0.69424454, 0.97959731, 0.24983165, 0.65031461,\n",
      "        0.56375376, 0.46840443, 0.03069169, 0.0926317 , 0.50868127],\n",
      "       [0.33187569, 0.88740101, 0.01287616, 0.10898977, 0.91882092,\n",
      "        0.56058829, 0.22520758, 0.52423201, 0.98649131, 0.15724836],\n",
      "       [0.07626216, 0.97728175, 0.18002702, 0.57079076, 0.78174436,\n",
      "        0.01665822, 0.31323698, 0.3394616 , 0.02687582, 0.30768514]]), interactions={'click': 'select'}, scales={'color': ColorScale(scheme='Reds'), 'row': OrdinalScale(), 'column': OrdinalScale()}, scales_metadata={'row': {'orientation': 'vertical', 'dimension': 'y'}, 'column': {'orientation': 'horizontal', 'dimension': 'x'}, 'color': {'dimension': 'color'}}, selected=array([[0, 0]]), selected_style={'fill': 'blue'}, tooltip_style={'opacity': 0.9}), 'type': 'change'}\n",
      "{'name': 'selected', 'old': array([[0, 0]]), 'new': array([[6, 5]]), 'owner': GridHeatMap(color=array([[0.57196378, 0.57311676, 0.00149513, 0.86523861, 0.90569127,\n",
      "        0.61564876, 0.98602322, 0.6210563 , 0.38605484, 0.53999976],\n",
      "       [0.65609949, 0.71866496, 0.69498689, 0.03453116, 0.66345344,\n",
      "        0.31527374, 0.34837166, 0.38694171, 0.20862062, 0.1700008 ],\n",
      "       [0.69187381, 0.71106791, 0.27198929, 0.78230318, 0.32447487,\n",
      "        0.75507887, 0.07122043, 0.10769643, 0.99347394, 0.46063031],\n",
      "       [0.36568771, 0.39118138, 0.16432005, 0.58701207, 0.29333222,\n",
      "        0.18759281, 0.39123524, 0.79576756, 0.67125323, 0.62060612],\n",
      "       [0.8402376 , 0.28653118, 0.30236414, 0.58837018, 0.117496  ,\n",
      "        0.35637885, 0.81188951, 0.88446284, 0.34081735, 0.94033622],\n",
      "       [0.65726774, 0.69238217, 0.50013654, 0.03158525, 0.59343462,\n",
      "        0.69570894, 0.34021872, 0.28246946, 0.01279622, 0.05190139],\n",
      "       [0.0412112 , 0.89718053, 0.07367713, 0.94208456, 0.3339338 ,\n",
      "        0.98729352, 0.03286571, 0.60868275, 0.1915684 , 0.59543382],\n",
      "       [0.63749157, 0.69424454, 0.97959731, 0.24983165, 0.65031461,\n",
      "        0.56375376, 0.46840443, 0.03069169, 0.0926317 , 0.50868127],\n",
      "       [0.33187569, 0.88740101, 0.01287616, 0.10898977, 0.91882092,\n",
      "        0.56058829, 0.22520758, 0.52423201, 0.98649131, 0.15724836],\n",
      "       [0.07626216, 0.97728175, 0.18002702, 0.57079076, 0.78174436,\n",
      "        0.01665822, 0.31323698, 0.3394616 , 0.02687582, 0.30768514]]), interactions={'click': 'select'}, scales={'color': ColorScale(scheme='Reds'), 'row': OrdinalScale(), 'column': OrdinalScale()}, scales_metadata={'row': {'orientation': 'vertical', 'dimension': 'y'}, 'column': {'orientation': 'horizontal', 'dimension': 'x'}, 'color': {'dimension': 'color'}}, selected=array([[6, 5]]), selected_style={'fill': 'blue'}, tooltip_style={'opacity': 0.9}), 'type': 'change'}\n"
     ]
    }
   ],
   "source": [
    "# 2. scales\n",
    "col_sc = bqplot.ColorScale(scheme='Reds') # <3\n",
    "x_sc = bqplot.OrdinalScale() # ordered bins\n",
    "y_sc = bqplot.OrdinalScale()\n",
    "\n",
    "# 3. axis\n",
    "col_ax = bqplot.ColorAxis(scale=col_sc, orientation='vertical',\n",
    "                         side='right')\n",
    "x_ax = bqplot.Axis(scale=x_sc)\n",
    "y_ax = bqplot.Axis(scale=y_sc, orientation='vertical')\n",
    "\n",
    "# 4. Mark - heatmap\n",
    "heat_map = bqplot.GridHeatMap(color=data, scales={'color':col_sc,\n",
    "                                                 'row':y_sc,\n",
    "                                                 'column':x_sc},\n",
    "                             interactions={'click':'select'},\n",
    "                             selected_style={'fill':'blue'})\n",
    "\n",
    "# 5. interactions\n",
    "heat_map.observe(on_selected,'selected')\n",
    "\n",
    "fig = bqplot.Figure(marks=[heat_map], axes=[col_ax, x_ax, y_ax])\n",
    "fig"
   ]
  },
  {
   "cell_type": "code",
   "execution_count": 55,
   "id": "43c9596d",
   "metadata": {},
   "outputs": [
    {
     "data": {
      "application/vnd.jupyter.widget-view+json": {
       "model_id": "4605ab8278914e67adb300c73fe71bc5",
       "version_major": 2,
       "version_minor": 0
      },
      "text/plain": [
       "Figure(axes=[ColorAxis(orientation='vertical', scale=ColorScale(scheme='Reds'), side='right'), Axis(scale=Ordi…"
      ]
     },
     "metadata": {},
     "output_type": "display_data"
    },
    {
     "name": "stdout",
     "output_type": "stream",
     "text": [
      "[[0 0]]\n",
      "[[1 1]]\n",
      "[[2 1]]\n",
      "[[1 2]]\n",
      "[[3 3]]\n",
      "[[2 3]]\n",
      "[[1 3]]\n",
      "[[1 4]\n",
      " [1 3]]\n",
      "[[2 3]\n",
      " [1 3]]\n",
      "[[2 4]\n",
      " [1 3]\n",
      " [1 4]\n",
      " [2 3]]\n",
      "[[4 4]\n",
      " [1 3]\n",
      " [1 4]\n",
      " [2 3]\n",
      " [2 4]\n",
      " [3 3]\n",
      " [3 4]\n",
      " [4 3]]\n"
     ]
    }
   ],
   "source": [
    "def on_selected(change):\n",
    "    print(change['owner'].selected)\n",
    "    \n",
    "# 2. scales\n",
    "col_sc = bqplot.ColorScale(scheme='Reds') # <3\n",
    "x_sc = bqplot.OrdinalScale() # ordered bins\n",
    "y_sc = bqplot.OrdinalScale()\n",
    "\n",
    "# 3. axis\n",
    "col_ax = bqplot.ColorAxis(scale=col_sc, orientation='vertical',\n",
    "                         side='right')\n",
    "x_ax = bqplot.Axis(scale=x_sc)\n",
    "y_ax = bqplot.Axis(scale=y_sc, orientation='vertical')\n",
    "\n",
    "# 4. Mark - heatmap\n",
    "heat_map = bqplot.GridHeatMap(color=data, scales={'color':col_sc,\n",
    "                                                 'row':y_sc,\n",
    "                                                 'column':x_sc},\n",
    "                             interactions={'click':'select'},\n",
    "                             selected_style={'fill':'blue'})\n",
    "\n",
    "# 5. interactions\n",
    "heat_map.observe(on_selected,'selected')\n",
    "\n",
    "fig = bqplot.Figure(marks=[heat_map], axes=[col_ax, x_ax, y_ax])\n",
    "fig"
   ]
  },
  {
   "cell_type": "code",
   "execution_count": 57,
   "id": "5e4eda49",
   "metadata": {
    "scrolled": false
   },
   "outputs": [
    {
     "data": {
      "application/vnd.jupyter.widget-view+json": {
       "model_id": "bbd8efe51a144ee18b866259fa1770af",
       "version_major": 2,
       "version_minor": 0
      },
      "text/plain": [
       "Figure(axes=[ColorAxis(orientation='vertical', scale=ColorScale(scheme='Reds'), side='right'), Axis(scale=Ordi…"
      ]
     },
     "metadata": {},
     "output_type": "display_data"
    },
    {
     "name": "stdout",
     "output_type": "stream",
     "text": [
      "[1 0]\n",
      "[3 0]\n",
      "[1 1]\n",
      "[4 4]\n",
      "[5 3]\n"
     ]
    }
   ],
   "source": [
    "def on_selected(change):\n",
    "    if len(change['owner'].selected) == 1: # only selections of 1 tile\n",
    "        print(change['owner'].selected[0])\n",
    "    \n",
    "# 2. scales\n",
    "col_sc = bqplot.ColorScale(scheme='Reds') # <3\n",
    "x_sc = bqplot.OrdinalScale() # ordered bins\n",
    "y_sc = bqplot.OrdinalScale()\n",
    "\n",
    "# 3. axis\n",
    "col_ax = bqplot.ColorAxis(scale=col_sc, orientation='vertical',\n",
    "                         side='right')\n",
    "x_ax = bqplot.Axis(scale=x_sc)\n",
    "y_ax = bqplot.Axis(scale=y_sc, orientation='vertical')\n",
    "\n",
    "# 4. Mark - heatmap\n",
    "heat_map = bqplot.GridHeatMap(color=data, scales={'color':col_sc,\n",
    "                                                 'row':y_sc,\n",
    "                                                 'column':x_sc},\n",
    "                             interactions={'click':'select'},\n",
    "                             selected_style={'fill':'blue'})\n",
    "\n",
    "# 5. interactions\n",
    "heat_map.observe(on_selected,'selected')\n",
    "\n",
    "fig = bqplot.Figure(marks=[heat_map], axes=[col_ax, x_ax, y_ax])\n",
    "fig"
   ]
  },
  {
   "cell_type": "code",
   "execution_count": 58,
   "id": "bdbf32a3",
   "metadata": {},
   "outputs": [
    {
     "data": {
      "text/plain": [
       "array([5, 3])"
      ]
     },
     "execution_count": 58,
     "metadata": {},
     "output_type": "execute_result"
    }
   ],
   "source": [
    "heat_map.selected[0]"
   ]
  },
  {
   "cell_type": "code",
   "execution_count": 59,
   "id": "b5b72c01",
   "metadata": {},
   "outputs": [
    {
     "data": {
      "text/plain": [
       "0.03158525366078735"
      ]
     },
     "execution_count": 59,
     "metadata": {},
     "output_type": "execute_result"
    }
   ],
   "source": [
    "i,j = heat_map.selected[0]\n",
    "data[i,j]"
   ]
  },
  {
   "cell_type": "code",
   "execution_count": 60,
   "id": "cf509933",
   "metadata": {},
   "outputs": [],
   "source": [
    "selectedLabel = ipywidgets.Label()"
   ]
  },
  {
   "cell_type": "code",
   "execution_count": 61,
   "id": "dc73085e",
   "metadata": {},
   "outputs": [
    {
     "data": {
      "application/vnd.jupyter.widget-view+json": {
       "model_id": "07d5d943036e4b2a99ab3ebc75968f12",
       "version_major": 2,
       "version_minor": 0
      },
      "text/plain": [
       "Label(value='')"
      ]
     },
     "metadata": {},
     "output_type": "display_data"
    }
   ],
   "source": [
    "selectedLabel"
   ]
  },
  {
   "cell_type": "code",
   "execution_count": 62,
   "id": "a55ffc8c",
   "metadata": {},
   "outputs": [
    {
     "data": {
      "application/vnd.jupyter.widget-view+json": {
       "model_id": "2dd10a049ea14896801c06c39b8afdd2",
       "version_major": 2,
       "version_minor": 0
      },
      "text/plain": [
       "Figure(axes=[ColorAxis(orientation='vertical', scale=ColorScale(scheme='Reds'), side='right'), Axis(scale=Ordi…"
      ]
     },
     "metadata": {},
     "output_type": "display_data"
    }
   ],
   "source": [
    "def on_selected(change):\n",
    "    if len(change['owner'].selected) == 1: # only selections of 1 tile\n",
    "        #print(change['owner'].selected[0])\n",
    "        i,j = change['owner'].selected[0]\n",
    "        v = data[i,j]\n",
    "        selectedLabel.value = 'Data Value = ' + str(v)\n",
    "    \n",
    "# 2. scales\n",
    "col_sc = bqplot.ColorScale(scheme='Reds') # <3\n",
    "x_sc = bqplot.OrdinalScale() # ordered bins\n",
    "y_sc = bqplot.OrdinalScale()\n",
    "\n",
    "# 3. axis\n",
    "col_ax = bqplot.ColorAxis(scale=col_sc, orientation='vertical',\n",
    "                         side='right')\n",
    "x_ax = bqplot.Axis(scale=x_sc)\n",
    "y_ax = bqplot.Axis(scale=y_sc, orientation='vertical')\n",
    "\n",
    "# 4. Mark - heatmap\n",
    "heat_map = bqplot.GridHeatMap(color=data, scales={'color':col_sc,\n",
    "                                                 'row':y_sc,\n",
    "                                                 'column':x_sc},\n",
    "                             interactions={'click':'select'},\n",
    "                             selected_style={'fill':'blue'})\n",
    "\n",
    "# 5. interactions\n",
    "heat_map.observe(on_selected,'selected')\n",
    "\n",
    "fig = bqplot.Figure(marks=[heat_map], axes=[col_ax, x_ax, y_ax])\n",
    "fig"
   ]
  },
  {
   "cell_type": "code",
   "execution_count": 63,
   "id": "eaef13cf",
   "metadata": {},
   "outputs": [
    {
     "data": {
      "application/vnd.jupyter.widget-view+json": {
       "model_id": "ead5dbdf72474091a36a31036c8bb1cd",
       "version_major": 2,
       "version_minor": 0
      },
      "text/plain": [
       "VBox(children=(Label(value=''), Figure(axes=[ColorAxis(orientation='vertical', scale=ColorScale(scheme='Reds')…"
      ]
     },
     "metadata": {},
     "output_type": "display_data"
    }
   ],
   "source": [
    "selectedLabel = ipywidgets.Label() # label\n",
    "\n",
    "def on_selected(change):\n",
    "    if len(change['owner'].selected) == 1: # only selections of 1 tile\n",
    "        #print(change['owner'].selected[0])\n",
    "        i,j = change['owner'].selected[0]\n",
    "        v = data[i,j]\n",
    "        selectedLabel.value = 'Data Value = ' + str(v) # change label value\n",
    "    \n",
    "# 2. scales\n",
    "col_sc = bqplot.ColorScale(scheme='Reds') # <3\n",
    "x_sc = bqplot.OrdinalScale() # ordered bins\n",
    "y_sc = bqplot.OrdinalScale()\n",
    "\n",
    "# 3. axis\n",
    "col_ax = bqplot.ColorAxis(scale=col_sc, orientation='vertical',\n",
    "                         side='right')\n",
    "x_ax = bqplot.Axis(scale=x_sc)\n",
    "y_ax = bqplot.Axis(scale=y_sc, orientation='vertical')\n",
    "\n",
    "# 4. Mark - heatmap\n",
    "heat_map = bqplot.GridHeatMap(color=data, scales={'color':col_sc,\n",
    "                                                 'row':y_sc,\n",
    "                                                 'column':x_sc},\n",
    "                             interactions={'click':'select'},\n",
    "                             selected_style={'fill':'blue'})\n",
    "\n",
    "# 5. interactions\n",
    "heat_map.observe(on_selected,'selected')\n",
    "\n",
    "fig = bqplot.Figure(marks=[heat_map], axes=[col_ax, x_ax, y_ax])\n",
    "#fig\n",
    "dashboard = ipywidgets.VBox([selectedLabel,fig])\n",
    "dashboard"
   ]
  },
  {
   "cell_type": "markdown",
   "id": "b5caab12",
   "metadata": {},
   "source": [
    "## Into the 3rd dimension!"
   ]
  },
  {
   "cell_type": "code",
   "execution_count": 68,
   "id": "9a840e3c",
   "metadata": {},
   "outputs": [],
   "source": [
    "# 1. data\n",
    "data3d = np.random.random((10,10,20))"
   ]
  },
  {
   "cell_type": "code",
   "execution_count": 69,
   "id": "d7e9e74a",
   "metadata": {},
   "outputs": [
    {
     "data": {
      "text/plain": [
       "(10, 10, 20)"
      ]
     },
     "execution_count": 69,
     "metadata": {},
     "output_type": "execute_result"
    }
   ],
   "source": [
    "data3d.shape"
   ]
  },
  {
   "cell_type": "code",
   "execution_count": 70,
   "id": "0e5c0365",
   "metadata": {},
   "outputs": [
    {
     "data": {
      "text/plain": [
       "array([0.6885316 , 0.29836129, 0.11798487, 0.82373328, 0.7365532 ,\n",
       "       0.1237338 , 0.02601242, 0.36682633, 0.32193008, 0.44251162,\n",
       "       0.22068222, 0.47956926, 0.08773204, 0.31041898, 0.05131996,\n",
       "       0.43448892, 0.40361746, 0.04211452, 0.14480681, 0.06275652])"
      ]
     },
     "execution_count": 70,
     "metadata": {},
     "output_type": "execute_result"
    }
   ],
   "source": [
    "i,j = 0,0\n",
    "data3d[i,j,:]"
   ]
  },
  {
   "cell_type": "code",
   "execution_count": 76,
   "id": "24a61363",
   "metadata": {},
   "outputs": [
    {
     "data": {
      "text/plain": [
       "array([[ 6.18368518,  9.61338104, 10.96690046, 11.53144997,  8.86398436,\n",
       "         9.3396218 ,  9.23157282,  9.31153257, 10.30459442, 10.40190903],\n",
       "       [11.0421513 , 11.88451716,  8.18577977, 11.07033597, 10.03656393,\n",
       "        10.33800599,  9.06644963, 10.06403757,  8.7981288 ,  9.51526208],\n",
       "       [11.7626133 ,  9.52007353, 10.49883354, 10.68879533, 11.29026501,\n",
       "         9.79126904, 11.34712628,  8.13349732, 10.11241946,  9.92373768],\n",
       "       [12.04458982,  9.68327946,  6.49678405, 10.15762551, 10.70059888,\n",
       "        12.14989429, 11.13793749,  7.55834813,  8.78951559, 10.15550841],\n",
       "       [10.22082772,  7.8715692 , 10.16792694,  9.65525759, 10.01844099,\n",
       "         9.90680124, 10.8264033 ,  8.05584431, 10.18831859, 10.12035508],\n",
       "       [ 9.93376153, 10.41065755,  9.20752656, 10.39347499, 10.09992112,\n",
       "         8.09112852, 10.2030846 ,  6.60555658,  9.44120928, 11.83074363],\n",
       "       [ 7.79884596,  7.89520842, 11.30705573, 10.80846017,  7.95269458,\n",
       "        11.44081613, 10.84706646, 10.16173884,  9.18796377,  9.64754418],\n",
       "       [ 8.98070363,  7.86149618,  8.97254745,  9.65592682, 10.50644326,\n",
       "         9.29667798,  9.98365951,  9.18921107, 12.08924174,  9.54048236],\n",
       "       [10.55497761,  8.18932802, 10.14430283,  6.7952476 ,  9.43135205,\n",
       "        10.34709158, 11.34529715, 11.62885744, 10.57810247,  9.82743781],\n",
       "       [10.3803264 , 10.85513764, 11.26390145,  9.70980896,  8.59310779,\n",
       "        11.71266003, 10.82482896,  7.66375996, 10.17728895, 11.86488572]])"
      ]
     },
     "execution_count": 76,
     "metadata": {},
     "output_type": "execute_result"
    }
   ],
   "source": [
    "np.sum(data3d, axis=2)"
   ]
  },
  {
   "cell_type": "code",
   "execution_count": 78,
   "id": "3b0c700a",
   "metadata": {},
   "outputs": [
    {
     "data": {
      "application/vnd.jupyter.widget-view+json": {
       "model_id": "c711d7aaf952455a8b426bbf71341229",
       "version_major": 2,
       "version_minor": 0
      },
      "text/plain": [
       "VBox(children=(Label(value=''), Figure(axes=[ColorAxis(orientation='vertical', scale=ColorScale(scheme='Reds')…"
      ]
     },
     "metadata": {},
     "output_type": "display_data"
    }
   ],
   "source": [
    "selectedLabel = ipywidgets.Label() # label\n",
    "\n",
    "def on_selected(change):\n",
    "    if len(change['owner'].selected) == 1: # only selections of 1 tile\n",
    "        #print(change['owner'].selected[0])\n",
    "        i,j = change['owner'].selected[0]\n",
    "        v = np.sum(data3d[i,j,:])\n",
    "        selectedLabel.value = 'Summed Data Value = ' + str(v) # change label value\n",
    "    \n",
    "# 2. scales\n",
    "col_sc = bqplot.ColorScale(scheme='Reds') # <3\n",
    "x_sc = bqplot.OrdinalScale() # ordered bins\n",
    "y_sc = bqplot.OrdinalScale()\n",
    "\n",
    "# 3. axis\n",
    "col_ax = bqplot.ColorAxis(scale=col_sc, orientation='vertical',\n",
    "                         side='right')\n",
    "x_ax = bqplot.Axis(scale=x_sc)\n",
    "y_ax = bqplot.Axis(scale=y_sc, orientation='vertical')\n",
    "\n",
    "# 4. Mark - heatmap\n",
    "heat_map = bqplot.GridHeatMap(color=np.sum(data3d,axis=2), scales={'color':col_sc,\n",
    "                                                 'row':y_sc,\n",
    "                                                 'column':x_sc},\n",
    "                             interactions={'click':'select'},\n",
    "                             selected_style={'fill':'blue'})\n",
    "\n",
    "# 5. interactions\n",
    "heat_map.observe(on_selected,'selected')\n",
    "\n",
    "fig = bqplot.Figure(marks=[heat_map], axes=[col_ax, x_ax, y_ax])\n",
    "#fig\n",
    "dashboard = ipywidgets.VBox([selectedLabel,fig])\n",
    "dashboard"
   ]
  },
  {
   "cell_type": "code",
   "execution_count": 79,
   "id": "eb9c8ec4",
   "metadata": {},
   "outputs": [
    {
     "data": {
      "text/plain": [
       "array([0.13803474, 0.20922545, 0.69584653, 0.26218093, 0.78341718,\n",
       "       0.99198785, 0.81609999, 0.97708225, 0.2786748 , 0.872131  ,\n",
       "       0.12781379, 0.28509069, 0.60969616, 0.01378767, 0.78561889,\n",
       "       0.77215182, 0.37604458, 0.23420604, 0.47685475, 0.79288841])"
      ]
     },
     "execution_count": 79,
     "metadata": {},
     "output_type": "execute_result"
    }
   ],
   "source": [
    "# 1. data - fake selection\n",
    "i,j = 2,2\n",
    "data3d[i,j,:]"
   ]
  },
  {
   "cell_type": "code",
   "execution_count": null,
   "id": "3b9633df",
   "metadata": {},
   "outputs": [],
   "source": [
    "# 2. scales\n",
    "x_sch = bqplot.LinearScale()"
   ]
  }
 ],
 "metadata": {
  "kernelspec": {
   "display_name": "Python 3 (ipykernel)",
   "language": "python",
   "name": "python3"
  },
  "language_info": {
   "codemirror_mode": {
    "name": "ipython",
    "version": 3
   },
   "file_extension": ".py",
   "mimetype": "text/x-python",
   "name": "python",
   "nbconvert_exporter": "python",
   "pygments_lexer": "ipython3",
   "version": "3.7.12"
  }
 },
 "nbformat": 4,
 "nbformat_minor": 5
}
